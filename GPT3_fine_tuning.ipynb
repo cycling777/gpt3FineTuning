{
  "cells": [
    {
      "cell_type": "markdown",
      "metadata": {
        "id": "view-in-github",
        "colab_type": "text"
      },
      "source": [
        "<a href=\"https://colab.research.google.com/github/cycling777/gpt3FineTuning/blob/main/GPT3_fine_tuning.ipynb\" target=\"_parent\"><img src=\"https://colab.research.google.com/assets/colab-badge.svg\" alt=\"Open In Colab\"/></a>"
      ]
    },
    {
      "cell_type": "markdown",
      "metadata": {
        "id": "A2RYMIVBMvK-"
      },
      "source": [
        "# Fine-tune GPT-3 with Mental helth dataset"
      ]
    },
    {
      "cell_type": "markdown",
      "metadata": {
        "id": "Qoz8YY3dMvLA"
      },
      "source": [
        "OpenAI’s API gives practitioners access to GPT-3, an incredibly powerful natural language model that can be applied to virtually any task that involves understanding or generating natural language.\n",
        "\n",
        "If you use OpenAI's API to [fine-tune GPT-3](https://beta.openai.com/docs/guides/fine-tuning), you can now use the W&B integration to track experiments, models, and datasets in your central dashboard.\n",
        "\n",
        "All it takes is one line: `openai wandb sync`"
      ]
    },
    {
      "cell_type": "markdown",
      "metadata": {
        "id": "pYLnYZLUMvLA"
      },
      "source": [
        "## Set up your API key"
      ]
    },
    {
      "cell_type": "markdown",
      "source": [],
      "metadata": {
        "id": "vZD1OwwCOS4w"
      }
    },
    {
      "cell_type": "code",
      "execution_count": null,
      "metadata": {
        "colab": {
          "base_uri": "https://localhost:8080/"
        },
        "id": "8dZfTfsAMvLB",
        "outputId": "33adcd66-155f-44d9-e217-a942bbe5ae1e"
      },
      "outputs": [
        {
          "output_type": "stream",
          "name": "stdout",
          "text": [
            "env: OPENAI_API_KEY=sk-xxxxxxxxxxxxxxxxxxxxxxxxxxxx\n"
          ]
        }
      ],
      "source": [
        "# Enter credentials\n",
        "%env OPENAI_API_KEY=sk-xxxxxxxxxxxxxxxxxxxxxxxxxxxx"
      ]
    },
    {
      "cell_type": "markdown",
      "metadata": {
        "id": "AGRz4E5VMvLC"
      },
      "source": [
        "**WARNING: Remove the API key after running the cell and clear output so it does not get logged to wandb in case you sync code (see settings)**"
      ]
    },
    {
      "cell_type": "markdown",
      "metadata": {
        "id": "U2GVT8TuMvLC"
      },
      "source": [
        "## Install dependencies"
      ]
    },
    {
      "cell_type": "code",
      "execution_count": null,
      "metadata": {
        "id": "y21NXI7qMvLC"
      },
      "outputs": [],
      "source": [
        "!pip install -Uq openai wandb"
      ]
    },
    {
      "cell_type": "code",
      "execution_count": null,
      "metadata": {
        "id": "Y5NfH1J0MvLD"
      },
      "outputs": [],
      "source": [
        "import openai\n",
        "import wandb\n",
        "from pathlib import Path\n",
        "import pandas as pd\n",
        "import numpy as np\n",
        "import json\n",
        "from tqdm import tqdm"
      ]
    },
    {
      "cell_type": "code",
      "source": [
        "from google.colab import drive"
      ],
      "metadata": {
        "id": "WKKtgpo2aAYH"
      },
      "execution_count": null,
      "outputs": []
    },
    {
      "cell_type": "markdown",
      "source": [
        "# Mount Google Drive"
      ],
      "metadata": {
        "id": "So-Ws-tqaOZR"
      }
    },
    {
      "cell_type": "code",
      "source": [
        "drive.mount('/content/drive')"
      ],
      "metadata": {
        "colab": {
          "base_uri": "https://localhost:8080/"
        },
        "id": "3fpjGpdBaIxD",
        "outputId": "adb87fa6-0145-4cd6-e0e5-0bfd86f05f5d"
      },
      "execution_count": null,
      "outputs": [
        {
          "output_type": "stream",
          "name": "stdout",
          "text": [
            "Mounted at /content/drive\n"
          ]
        }
      ]
    },
    {
      "cell_type": "markdown",
      "source": [
        "# DownLaod demo data from here\n",
        "https://www.kaggle.com/datasets/narendrageek/mental-health-faq-for-chatbot?resource=download\n",
        "# Save the data on your drive at 'drive/My Drive/dataset/Mental_Health_FAQ.csv'\n",
        "# Check Mental Health Dataset in drive is available"
      ],
      "metadata": {
        "id": "ct_rZi9YbjQB"
      }
    },
    {
      "cell_type": "code",
      "source": [
        "pd.read_csv('drive/My Drive/dataset/Mental_Health_FAQ.csv')"
      ],
      "metadata": {
        "id": "xP6yEzLqahms",
        "colab": {
          "base_uri": "https://localhost:8080/",
          "height": 423
        },
        "outputId": "90c18eb2-0de5-4918-ffa9-8a723792fa8f"
      },
      "execution_count": null,
      "outputs": [
        {
          "output_type": "execute_result",
          "data": {
            "text/plain": [
              "    Question_ID                                          Questions  \\\n",
              "0       1590140        What does it mean to have a mental illness?   \n",
              "1       2110618                    Who does mental illness affect?   \n",
              "2       6361820                        What causes mental illness?   \n",
              "3       9434130  What are some of the warning signs of mental i...   \n",
              "4       7657263            Can people with mental illness recover?   \n",
              "..          ...                                                ...   \n",
              "93      4373204            How do I know if I'm drinking too much?   \n",
              "94      7807643  If cannabis is dangerous, why are we legalizin...   \n",
              "95      4352464       How can I convince my kids not to use drugs?   \n",
              "96      6521784  What is the legal status (and evidence) of CBD...   \n",
              "97      3221856                    What is the evidence on vaping?   \n",
              "\n",
              "                                              Answers  \n",
              "0   Mental illnesses are health conditions that di...  \n",
              "1   It is estimated that mental illness affects 1 ...  \n",
              "2   It is estimated that mental illness affects 1 ...  \n",
              "3   Symptoms of mental health disorders vary depen...  \n",
              "4   When healing from mental illness, early identi...  \n",
              "..                                                ...  \n",
              "93  Sorting out if you are drinking too much can b...  \n",
              "94  Cannabis smoke, for example, contains cancer-c...  \n",
              "95  You can't. But you can influence their capacit...  \n",
              "96  Cannabidiol or CBD is a naturally occurring co...  \n",
              "97  \"Vaping\" is the term for using a device where ...  \n",
              "\n",
              "[98 rows x 3 columns]"
            ],
            "text/html": [
              "\n",
              "  <div id=\"df-a953b235-fe2c-4eef-a1df-986ff0c8a6e8\">\n",
              "    <div class=\"colab-df-container\">\n",
              "      <div>\n",
              "<style scoped>\n",
              "    .dataframe tbody tr th:only-of-type {\n",
              "        vertical-align: middle;\n",
              "    }\n",
              "\n",
              "    .dataframe tbody tr th {\n",
              "        vertical-align: top;\n",
              "    }\n",
              "\n",
              "    .dataframe thead th {\n",
              "        text-align: right;\n",
              "    }\n",
              "</style>\n",
              "<table border=\"1\" class=\"dataframe\">\n",
              "  <thead>\n",
              "    <tr style=\"text-align: right;\">\n",
              "      <th></th>\n",
              "      <th>Question_ID</th>\n",
              "      <th>Questions</th>\n",
              "      <th>Answers</th>\n",
              "    </tr>\n",
              "  </thead>\n",
              "  <tbody>\n",
              "    <tr>\n",
              "      <th>0</th>\n",
              "      <td>1590140</td>\n",
              "      <td>What does it mean to have a mental illness?</td>\n",
              "      <td>Mental illnesses are health conditions that di...</td>\n",
              "    </tr>\n",
              "    <tr>\n",
              "      <th>1</th>\n",
              "      <td>2110618</td>\n",
              "      <td>Who does mental illness affect?</td>\n",
              "      <td>It is estimated that mental illness affects 1 ...</td>\n",
              "    </tr>\n",
              "    <tr>\n",
              "      <th>2</th>\n",
              "      <td>6361820</td>\n",
              "      <td>What causes mental illness?</td>\n",
              "      <td>It is estimated that mental illness affects 1 ...</td>\n",
              "    </tr>\n",
              "    <tr>\n",
              "      <th>3</th>\n",
              "      <td>9434130</td>\n",
              "      <td>What are some of the warning signs of mental i...</td>\n",
              "      <td>Symptoms of mental health disorders vary depen...</td>\n",
              "    </tr>\n",
              "    <tr>\n",
              "      <th>4</th>\n",
              "      <td>7657263</td>\n",
              "      <td>Can people with mental illness recover?</td>\n",
              "      <td>When healing from mental illness, early identi...</td>\n",
              "    </tr>\n",
              "    <tr>\n",
              "      <th>...</th>\n",
              "      <td>...</td>\n",
              "      <td>...</td>\n",
              "      <td>...</td>\n",
              "    </tr>\n",
              "    <tr>\n",
              "      <th>93</th>\n",
              "      <td>4373204</td>\n",
              "      <td>How do I know if I'm drinking too much?</td>\n",
              "      <td>Sorting out if you are drinking too much can b...</td>\n",
              "    </tr>\n",
              "    <tr>\n",
              "      <th>94</th>\n",
              "      <td>7807643</td>\n",
              "      <td>If cannabis is dangerous, why are we legalizin...</td>\n",
              "      <td>Cannabis smoke, for example, contains cancer-c...</td>\n",
              "    </tr>\n",
              "    <tr>\n",
              "      <th>95</th>\n",
              "      <td>4352464</td>\n",
              "      <td>How can I convince my kids not to use drugs?</td>\n",
              "      <td>You can't. But you can influence their capacit...</td>\n",
              "    </tr>\n",
              "    <tr>\n",
              "      <th>96</th>\n",
              "      <td>6521784</td>\n",
              "      <td>What is the legal status (and evidence) of CBD...</td>\n",
              "      <td>Cannabidiol or CBD is a naturally occurring co...</td>\n",
              "    </tr>\n",
              "    <tr>\n",
              "      <th>97</th>\n",
              "      <td>3221856</td>\n",
              "      <td>What is the evidence on vaping?</td>\n",
              "      <td>\"Vaping\" is the term for using a device where ...</td>\n",
              "    </tr>\n",
              "  </tbody>\n",
              "</table>\n",
              "<p>98 rows × 3 columns</p>\n",
              "</div>\n",
              "      <button class=\"colab-df-convert\" onclick=\"convertToInteractive('df-a953b235-fe2c-4eef-a1df-986ff0c8a6e8')\"\n",
              "              title=\"Convert this dataframe to an interactive table.\"\n",
              "              style=\"display:none;\">\n",
              "        \n",
              "  <svg xmlns=\"http://www.w3.org/2000/svg\" height=\"24px\"viewBox=\"0 0 24 24\"\n",
              "       width=\"24px\">\n",
              "    <path d=\"M0 0h24v24H0V0z\" fill=\"none\"/>\n",
              "    <path d=\"M18.56 5.44l.94 2.06.94-2.06 2.06-.94-2.06-.94-.94-2.06-.94 2.06-2.06.94zm-11 1L8.5 8.5l.94-2.06 2.06-.94-2.06-.94L8.5 2.5l-.94 2.06-2.06.94zm10 10l.94 2.06.94-2.06 2.06-.94-2.06-.94-.94-2.06-.94 2.06-2.06.94z\"/><path d=\"M17.41 7.96l-1.37-1.37c-.4-.4-.92-.59-1.43-.59-.52 0-1.04.2-1.43.59L10.3 9.45l-7.72 7.72c-.78.78-.78 2.05 0 2.83L4 21.41c.39.39.9.59 1.41.59.51 0 1.02-.2 1.41-.59l7.78-7.78 2.81-2.81c.8-.78.8-2.07 0-2.86zM5.41 20L4 18.59l7.72-7.72 1.47 1.35L5.41 20z\"/>\n",
              "  </svg>\n",
              "      </button>\n",
              "      \n",
              "  <style>\n",
              "    .colab-df-container {\n",
              "      display:flex;\n",
              "      flex-wrap:wrap;\n",
              "      gap: 12px;\n",
              "    }\n",
              "\n",
              "    .colab-df-convert {\n",
              "      background-color: #E8F0FE;\n",
              "      border: none;\n",
              "      border-radius: 50%;\n",
              "      cursor: pointer;\n",
              "      display: none;\n",
              "      fill: #1967D2;\n",
              "      height: 32px;\n",
              "      padding: 0 0 0 0;\n",
              "      width: 32px;\n",
              "    }\n",
              "\n",
              "    .colab-df-convert:hover {\n",
              "      background-color: #E2EBFA;\n",
              "      box-shadow: 0px 1px 2px rgba(60, 64, 67, 0.3), 0px 1px 3px 1px rgba(60, 64, 67, 0.15);\n",
              "      fill: #174EA6;\n",
              "    }\n",
              "\n",
              "    [theme=dark] .colab-df-convert {\n",
              "      background-color: #3B4455;\n",
              "      fill: #D2E3FC;\n",
              "    }\n",
              "\n",
              "    [theme=dark] .colab-df-convert:hover {\n",
              "      background-color: #434B5C;\n",
              "      box-shadow: 0px 1px 3px 1px rgba(0, 0, 0, 0.15);\n",
              "      filter: drop-shadow(0px 1px 2px rgba(0, 0, 0, 0.3));\n",
              "      fill: #FFFFFF;\n",
              "    }\n",
              "  </style>\n",
              "\n",
              "      <script>\n",
              "        const buttonEl =\n",
              "          document.querySelector('#df-a953b235-fe2c-4eef-a1df-986ff0c8a6e8 button.colab-df-convert');\n",
              "        buttonEl.style.display =\n",
              "          google.colab.kernel.accessAllowed ? 'block' : 'none';\n",
              "\n",
              "        async function convertToInteractive(key) {\n",
              "          const element = document.querySelector('#df-a953b235-fe2c-4eef-a1df-986ff0c8a6e8');\n",
              "          const dataTable =\n",
              "            await google.colab.kernel.invokeFunction('convertToInteractive',\n",
              "                                                     [key], {});\n",
              "          if (!dataTable) return;\n",
              "\n",
              "          const docLinkHtml = 'Like what you see? Visit the ' +\n",
              "            '<a target=\"_blank\" href=https://colab.research.google.com/notebooks/data_table.ipynb>data table notebook</a>'\n",
              "            + ' to learn more about interactive tables.';\n",
              "          element.innerHTML = '';\n",
              "          dataTable['output_type'] = 'display_data';\n",
              "          await google.colab.output.renderOutput(dataTable, element);\n",
              "          const docLink = document.createElement('div');\n",
              "          docLink.innerHTML = docLinkHtml;\n",
              "          element.appendChild(docLink);\n",
              "        }\n",
              "      </script>\n",
              "    </div>\n",
              "  </div>\n",
              "  "
            ]
          },
          "metadata": {},
          "execution_count": 6
        }
      ]
    },
    {
      "cell_type": "markdown",
      "source": [
        "# Upload Mental Health Dataset to Wandb Cloud(Only the first time)"
      ],
      "metadata": {
        "id": "QARq-ifBcSD5"
      }
    },
    {
      "cell_type": "code",
      "source": [
        "run = wandb.init(project=\"GPT 3 for Mental Health FAQ\", job_type=\"dataset-creation\")\n",
        "\n",
        "# Create a new artifact, which is a sample dataset\n",
        "dataset = wandb.Artifact(\"Health-Dataset\", type=\"raw_dataset\")\n",
        "# Add files to the artifact, in this case a simple text file\n",
        "dataset.add_file('drive/My Drive/dataset/Mental_Health_FAQ.csv')\n",
        "# Log the artifact to save it as an output of this run\n",
        "run.log_artifact(dataset)"
      ],
      "metadata": {
        "colab": {
          "base_uri": "https://localhost:8080/",
          "height": 143
        },
        "id": "KKEJCugFcjWI",
        "outputId": "bcf95757-4690-4f8a-aad3-fe21e5744ca8"
      },
      "execution_count": null,
      "outputs": [
        {
          "output_type": "stream",
          "name": "stderr",
          "text": [
            "ERROR:wandb.jupyter:Failed to detect the name of this notebook, you can set it manually with the WANDB_NOTEBOOK_NAME environment variable to enable code saving.\n"
          ]
        },
        {
          "output_type": "display_data",
          "data": {
            "text/plain": [
              "<IPython.core.display.Javascript object>"
            ],
            "application/javascript": [
              "\n",
              "        window._wandbApiKey = new Promise((resolve, reject) => {\n",
              "            function loadScript(url) {\n",
              "            return new Promise(function(resolve, reject) {\n",
              "                let newScript = document.createElement(\"script\");\n",
              "                newScript.onerror = reject;\n",
              "                newScript.onload = resolve;\n",
              "                document.body.appendChild(newScript);\n",
              "                newScript.src = url;\n",
              "            });\n",
              "            }\n",
              "            loadScript(\"https://cdn.jsdelivr.net/npm/postmate/build/postmate.min.js\").then(() => {\n",
              "            const iframe = document.createElement('iframe')\n",
              "            iframe.style.cssText = \"width:0;height:0;border:none\"\n",
              "            document.body.appendChild(iframe)\n",
              "            const handshake = new Postmate({\n",
              "                container: iframe,\n",
              "                url: 'https://wandb.ai/authorize'\n",
              "            });\n",
              "            const timeout = setTimeout(() => reject(\"Couldn't auto authenticate\"), 5000)\n",
              "            handshake.then(function(child) {\n",
              "                child.on('authorize', data => {\n",
              "                    clearTimeout(timeout)\n",
              "                    resolve(data)\n",
              "                });\n",
              "            });\n",
              "            })\n",
              "        });\n",
              "    "
            ]
          },
          "metadata": {}
        },
        {
          "output_type": "stream",
          "name": "stderr",
          "text": [
            "\u001b[34m\u001b[1mwandb\u001b[0m: Appending key for api.wandb.ai to your netrc file: /root/.netrc\n"
          ]
        },
        {
          "output_type": "display_data",
          "data": {
            "text/plain": [
              "<IPython.core.display.HTML object>"
            ],
            "text/html": [
              "Tracking run with wandb version 0.13.5"
            ]
          },
          "metadata": {}
        },
        {
          "output_type": "display_data",
          "data": {
            "text/plain": [
              "<IPython.core.display.HTML object>"
            ],
            "text/html": [
              "Run data is saved locally in <code>/content/wandb/run-20221111_002434-11imo5gw</code>"
            ]
          },
          "metadata": {}
        },
        {
          "output_type": "display_data",
          "data": {
            "text/plain": [
              "<IPython.core.display.HTML object>"
            ],
            "text/html": [
              "Syncing run <strong><a href=\"https://wandb.ai/kenta_watanabe/GPT%203%20for%20Mental%20Health%20FAQ/runs/11imo5gw\" target=\"_blank\">crimson-paper-1</a></strong> to <a href=\"https://wandb.ai/kenta_watanabe/GPT%203%20for%20Mental%20Health%20FAQ\" target=\"_blank\">Weights & Biases</a> (<a href=\"https://wandb.me/run\" target=\"_blank\">docs</a>)<br/>"
            ]
          },
          "metadata": {}
        },
        {
          "output_type": "execute_result",
          "data": {
            "text/plain": [
              "<wandb.sdk.wandb_artifacts.Artifact at 0x7fab2634e850>"
            ]
          },
          "metadata": {},
          "execution_count": 7
        }
      ]
    },
    {
      "cell_type": "markdown",
      "source": [
        "# DownLoad Mental Health Dataset from Wandb"
      ],
      "metadata": {
        "id": "Q6Nvj4EcgTBA"
      }
    },
    {
      "cell_type": "code",
      "execution_count": null,
      "metadata": {
        "colab": {
          "base_uri": "https://localhost:8080/",
          "height": 175
        },
        "id": "8aYsJnTSMvLD",
        "outputId": "979ddcdf-e24f-499c-b428-3646d6c5a557"
      },
      "outputs": [
        {
          "output_type": "display_data",
          "data": {
            "text/plain": [
              "<IPython.core.display.HTML object>"
            ],
            "text/html": [
              "Finishing last run (ID:11imo5gw) before initializing another..."
            ]
          },
          "metadata": {}
        },
        {
          "output_type": "display_data",
          "data": {
            "text/plain": [
              "<IPython.core.display.HTML object>"
            ],
            "text/html": [
              "Waiting for W&B process to finish... <strong style=\"color:green\">(success).</strong>"
            ]
          },
          "metadata": {}
        },
        {
          "output_type": "display_data",
          "data": {
            "text/plain": [
              "<IPython.core.display.HTML object>"
            ],
            "text/html": [
              "Synced <strong style=\"color:#cdcd00\">crimson-paper-1</strong>: <a href=\"https://wandb.ai/kenta_watanabe/GPT%203%20for%20Mental%20Health%20FAQ/runs/11imo5gw\" target=\"_blank\">https://wandb.ai/kenta_watanabe/GPT%203%20for%20Mental%20Health%20FAQ/runs/11imo5gw</a><br/>Synced 4 W&B file(s), 0 media file(s), 1 artifact file(s) and 0 other file(s)"
            ]
          },
          "metadata": {}
        },
        {
          "output_type": "display_data",
          "data": {
            "text/plain": [
              "<IPython.core.display.HTML object>"
            ],
            "text/html": [
              "Find logs at: <code>./wandb/run-20221111_002434-11imo5gw/logs</code>"
            ]
          },
          "metadata": {}
        },
        {
          "output_type": "display_data",
          "data": {
            "text/plain": [
              "<IPython.core.display.HTML object>"
            ],
            "text/html": [
              "Successfully finished last run (ID:11imo5gw). Initializing new run:<br/>"
            ]
          },
          "metadata": {}
        },
        {
          "output_type": "display_data",
          "data": {
            "text/plain": [
              "<IPython.core.display.HTML object>"
            ],
            "text/html": [
              "Tracking run with wandb version 0.13.5"
            ]
          },
          "metadata": {}
        },
        {
          "output_type": "display_data",
          "data": {
            "text/plain": [
              "<IPython.core.display.HTML object>"
            ],
            "text/html": [
              "Run data is saved locally in <code>/content/wandb/run-20221111_002640-3gor1atp</code>"
            ]
          },
          "metadata": {}
        },
        {
          "output_type": "display_data",
          "data": {
            "text/plain": [
              "<IPython.core.display.HTML object>"
            ],
            "text/html": [
              "Syncing run <strong><a href=\"https://wandb.ai/kenta_watanabe/GPT%203%20for%20Mental%20Health%20FAQ/runs/3gor1atp\" target=\"_blank\">clean-sunset-2</a></strong> to <a href=\"https://wandb.ai/kenta_watanabe/GPT%203%20for%20Mental%20Health%20FAQ\" target=\"_blank\">Weights & Biases</a> (<a href=\"https://wandb.me/run\" target=\"_blank\">docs</a>)<br/>"
            ]
          },
          "metadata": {}
        }
      ],
      "source": [
        "run = wandb.init(project='GPT 3 for Mental Health FAQ', job_type=\"dataset_preparation\")"
      ]
    },
    {
      "cell_type": "markdown",
      "metadata": {
        "id": "-tEHNkPiMvLD"
      },
      "source": [
        ":Using Weights & Biases Artifacts to Download a .CSV dataset file with episode title > synopsis pairs"
      ]
    },
    {
      "cell_type": "code",
      "execution_count": null,
      "metadata": {
        "colab": {
          "base_uri": "https://localhost:8080/",
          "height": 194
        },
        "id": "ZlmC8digMvLE",
        "outputId": "d3a35ef1-d48f-4eec-f91b-b696db2bea8a"
      },
      "outputs": [
        {
          "output_type": "display_data",
          "data": {
            "text/plain": [
              "<IPython.core.display.HTML object>"
            ],
            "text/html": [
              "Finishing last run (ID:3gor1atp) before initializing another..."
            ]
          },
          "metadata": {}
        },
        {
          "output_type": "display_data",
          "data": {
            "text/plain": [
              "<IPython.core.display.HTML object>"
            ],
            "text/html": [
              "Waiting for W&B process to finish... <strong style=\"color:green\">(success).</strong>"
            ]
          },
          "metadata": {}
        },
        {
          "output_type": "display_data",
          "data": {
            "text/plain": [
              "<IPython.core.display.HTML object>"
            ],
            "text/html": [
              "Synced <strong style=\"color:#cdcd00\">clean-sunset-2</strong>: <a href=\"https://wandb.ai/kenta_watanabe/GPT%203%20for%20Mental%20Health%20FAQ/runs/3gor1atp\" target=\"_blank\">https://wandb.ai/kenta_watanabe/GPT%203%20for%20Mental%20Health%20FAQ/runs/3gor1atp</a><br/>Synced 4 W&B file(s), 0 media file(s), 0 artifact file(s) and 0 other file(s)"
            ]
          },
          "metadata": {}
        },
        {
          "output_type": "display_data",
          "data": {
            "text/plain": [
              "<IPython.core.display.HTML object>"
            ],
            "text/html": [
              "Find logs at: <code>./wandb/run-20221111_002640-3gor1atp/logs</code>"
            ]
          },
          "metadata": {}
        },
        {
          "output_type": "display_data",
          "data": {
            "text/plain": [
              "<IPython.core.display.HTML object>"
            ],
            "text/html": [
              "Successfully finished last run (ID:3gor1atp). Initializing new run:<br/>"
            ]
          },
          "metadata": {}
        },
        {
          "output_type": "display_data",
          "data": {
            "text/plain": [
              "<IPython.core.display.HTML object>"
            ],
            "text/html": [
              "Tracking run with wandb version 0.13.5"
            ]
          },
          "metadata": {}
        },
        {
          "output_type": "display_data",
          "data": {
            "text/plain": [
              "<IPython.core.display.HTML object>"
            ],
            "text/html": [
              "Run data is saved locally in <code>/content/wandb/run-20221111_002756-29i2aekj</code>"
            ]
          },
          "metadata": {}
        },
        {
          "output_type": "display_data",
          "data": {
            "text/plain": [
              "<IPython.core.display.HTML object>"
            ],
            "text/html": [
              "Syncing run <strong><a href=\"https://wandb.ai/kenta_watanabe/GPT%203%20for%20Mental%20Health%20FAQ/runs/29i2aekj\" target=\"_blank\">crimson-blaze-3</a></strong> to <a href=\"https://wandb.ai/kenta_watanabe/GPT%203%20for%20Mental%20Health%20FAQ\" target=\"_blank\">Weights & Biases</a> (<a href=\"https://wandb.me/run\" target=\"_blank\">docs</a>)<br/>"
            ]
          },
          "metadata": {}
        },
        {
          "output_type": "stream",
          "name": "stderr",
          "text": [
            "\u001b[34m\u001b[1mwandb\u001b[0m:   1 of 1 files downloaded.  \n"
          ]
        }
      ],
      "source": [
        "run = wandb.init(project='GPT 3 for Mental Health FAQ')\n",
        "\n",
        "artifact = run.use_artifact('kenta_watanabe/GPT 3 for Mental Health FAQ/Health-Dataset:v0', type='raw_dataset')\n",
        "artifact_dir = artifact.download()+\"/Mental_Health_FAQ.csv\""
      ]
    },
    {
      "cell_type": "markdown",
      "source": [
        "# Data Featuring for learning GPT3"
      ],
      "metadata": {
        "id": "3XUKV1FHl2cg"
      }
    },
    {
      "cell_type": "code",
      "source": [
        "df = pd.read_csv(artifact_dir)\n",
        "df = df[[\"Questions\", \"Answers\"]]\n",
        "df.columns = [\"prompt\", \"completion\"]\n",
        "df"
      ],
      "metadata": {
        "colab": {
          "base_uri": "https://localhost:8080/",
          "height": 423
        },
        "id": "RPfw4C4spgnZ",
        "outputId": "27c8b7ef-99f9-42a0-ef3e-e4d8cee089b3"
      },
      "execution_count": null,
      "outputs": [
        {
          "output_type": "execute_result",
          "data": {
            "text/plain": [
              "                                               prompt  \\\n",
              "0         What does it mean to have a mental illness?   \n",
              "1                     Who does mental illness affect?   \n",
              "2                         What causes mental illness?   \n",
              "3   What are some of the warning signs of mental i...   \n",
              "4             Can people with mental illness recover?   \n",
              "..                                                ...   \n",
              "93            How do I know if I'm drinking too much?   \n",
              "94  If cannabis is dangerous, why are we legalizin...   \n",
              "95       How can I convince my kids not to use drugs?   \n",
              "96  What is the legal status (and evidence) of CBD...   \n",
              "97                    What is the evidence on vaping?   \n",
              "\n",
              "                                           completion  \n",
              "0   Mental illnesses are health conditions that di...  \n",
              "1   It is estimated that mental illness affects 1 ...  \n",
              "2   It is estimated that mental illness affects 1 ...  \n",
              "3   Symptoms of mental health disorders vary depen...  \n",
              "4   When healing from mental illness, early identi...  \n",
              "..                                                ...  \n",
              "93  Sorting out if you are drinking too much can b...  \n",
              "94  Cannabis smoke, for example, contains cancer-c...  \n",
              "95  You can't. But you can influence their capacit...  \n",
              "96  Cannabidiol or CBD is a naturally occurring co...  \n",
              "97  \"Vaping\" is the term for using a device where ...  \n",
              "\n",
              "[98 rows x 2 columns]"
            ],
            "text/html": [
              "\n",
              "  <div id=\"df-14cb2b71-5a6c-4079-ab4f-ffb15f2c8019\">\n",
              "    <div class=\"colab-df-container\">\n",
              "      <div>\n",
              "<style scoped>\n",
              "    .dataframe tbody tr th:only-of-type {\n",
              "        vertical-align: middle;\n",
              "    }\n",
              "\n",
              "    .dataframe tbody tr th {\n",
              "        vertical-align: top;\n",
              "    }\n",
              "\n",
              "    .dataframe thead th {\n",
              "        text-align: right;\n",
              "    }\n",
              "</style>\n",
              "<table border=\"1\" class=\"dataframe\">\n",
              "  <thead>\n",
              "    <tr style=\"text-align: right;\">\n",
              "      <th></th>\n",
              "      <th>prompt</th>\n",
              "      <th>completion</th>\n",
              "    </tr>\n",
              "  </thead>\n",
              "  <tbody>\n",
              "    <tr>\n",
              "      <th>0</th>\n",
              "      <td>What does it mean to have a mental illness?</td>\n",
              "      <td>Mental illnesses are health conditions that di...</td>\n",
              "    </tr>\n",
              "    <tr>\n",
              "      <th>1</th>\n",
              "      <td>Who does mental illness affect?</td>\n",
              "      <td>It is estimated that mental illness affects 1 ...</td>\n",
              "    </tr>\n",
              "    <tr>\n",
              "      <th>2</th>\n",
              "      <td>What causes mental illness?</td>\n",
              "      <td>It is estimated that mental illness affects 1 ...</td>\n",
              "    </tr>\n",
              "    <tr>\n",
              "      <th>3</th>\n",
              "      <td>What are some of the warning signs of mental i...</td>\n",
              "      <td>Symptoms of mental health disorders vary depen...</td>\n",
              "    </tr>\n",
              "    <tr>\n",
              "      <th>4</th>\n",
              "      <td>Can people with mental illness recover?</td>\n",
              "      <td>When healing from mental illness, early identi...</td>\n",
              "    </tr>\n",
              "    <tr>\n",
              "      <th>...</th>\n",
              "      <td>...</td>\n",
              "      <td>...</td>\n",
              "    </tr>\n",
              "    <tr>\n",
              "      <th>93</th>\n",
              "      <td>How do I know if I'm drinking too much?</td>\n",
              "      <td>Sorting out if you are drinking too much can b...</td>\n",
              "    </tr>\n",
              "    <tr>\n",
              "      <th>94</th>\n",
              "      <td>If cannabis is dangerous, why are we legalizin...</td>\n",
              "      <td>Cannabis smoke, for example, contains cancer-c...</td>\n",
              "    </tr>\n",
              "    <tr>\n",
              "      <th>95</th>\n",
              "      <td>How can I convince my kids not to use drugs?</td>\n",
              "      <td>You can't. But you can influence their capacit...</td>\n",
              "    </tr>\n",
              "    <tr>\n",
              "      <th>96</th>\n",
              "      <td>What is the legal status (and evidence) of CBD...</td>\n",
              "      <td>Cannabidiol or CBD is a naturally occurring co...</td>\n",
              "    </tr>\n",
              "    <tr>\n",
              "      <th>97</th>\n",
              "      <td>What is the evidence on vaping?</td>\n",
              "      <td>\"Vaping\" is the term for using a device where ...</td>\n",
              "    </tr>\n",
              "  </tbody>\n",
              "</table>\n",
              "<p>98 rows × 2 columns</p>\n",
              "</div>\n",
              "      <button class=\"colab-df-convert\" onclick=\"convertToInteractive('df-14cb2b71-5a6c-4079-ab4f-ffb15f2c8019')\"\n",
              "              title=\"Convert this dataframe to an interactive table.\"\n",
              "              style=\"display:none;\">\n",
              "        \n",
              "  <svg xmlns=\"http://www.w3.org/2000/svg\" height=\"24px\"viewBox=\"0 0 24 24\"\n",
              "       width=\"24px\">\n",
              "    <path d=\"M0 0h24v24H0V0z\" fill=\"none\"/>\n",
              "    <path d=\"M18.56 5.44l.94 2.06.94-2.06 2.06-.94-2.06-.94-.94-2.06-.94 2.06-2.06.94zm-11 1L8.5 8.5l.94-2.06 2.06-.94-2.06-.94L8.5 2.5l-.94 2.06-2.06.94zm10 10l.94 2.06.94-2.06 2.06-.94-2.06-.94-.94-2.06-.94 2.06-2.06.94z\"/><path d=\"M17.41 7.96l-1.37-1.37c-.4-.4-.92-.59-1.43-.59-.52 0-1.04.2-1.43.59L10.3 9.45l-7.72 7.72c-.78.78-.78 2.05 0 2.83L4 21.41c.39.39.9.59 1.41.59.51 0 1.02-.2 1.41-.59l7.78-7.78 2.81-2.81c.8-.78.8-2.07 0-2.86zM5.41 20L4 18.59l7.72-7.72 1.47 1.35L5.41 20z\"/>\n",
              "  </svg>\n",
              "      </button>\n",
              "      \n",
              "  <style>\n",
              "    .colab-df-container {\n",
              "      display:flex;\n",
              "      flex-wrap:wrap;\n",
              "      gap: 12px;\n",
              "    }\n",
              "\n",
              "    .colab-df-convert {\n",
              "      background-color: #E8F0FE;\n",
              "      border: none;\n",
              "      border-radius: 50%;\n",
              "      cursor: pointer;\n",
              "      display: none;\n",
              "      fill: #1967D2;\n",
              "      height: 32px;\n",
              "      padding: 0 0 0 0;\n",
              "      width: 32px;\n",
              "    }\n",
              "\n",
              "    .colab-df-convert:hover {\n",
              "      background-color: #E2EBFA;\n",
              "      box-shadow: 0px 1px 2px rgba(60, 64, 67, 0.3), 0px 1px 3px 1px rgba(60, 64, 67, 0.15);\n",
              "      fill: #174EA6;\n",
              "    }\n",
              "\n",
              "    [theme=dark] .colab-df-convert {\n",
              "      background-color: #3B4455;\n",
              "      fill: #D2E3FC;\n",
              "    }\n",
              "\n",
              "    [theme=dark] .colab-df-convert:hover {\n",
              "      background-color: #434B5C;\n",
              "      box-shadow: 0px 1px 3px 1px rgba(0, 0, 0, 0.15);\n",
              "      filter: drop-shadow(0px 1px 2px rgba(0, 0, 0, 0.3));\n",
              "      fill: #FFFFFF;\n",
              "    }\n",
              "  </style>\n",
              "\n",
              "      <script>\n",
              "        const buttonEl =\n",
              "          document.querySelector('#df-14cb2b71-5a6c-4079-ab4f-ffb15f2c8019 button.colab-df-convert');\n",
              "        buttonEl.style.display =\n",
              "          google.colab.kernel.accessAllowed ? 'block' : 'none';\n",
              "\n",
              "        async function convertToInteractive(key) {\n",
              "          const element = document.querySelector('#df-14cb2b71-5a6c-4079-ab4f-ffb15f2c8019');\n",
              "          const dataTable =\n",
              "            await google.colab.kernel.invokeFunction('convertToInteractive',\n",
              "                                                     [key], {});\n",
              "          if (!dataTable) return;\n",
              "\n",
              "          const docLinkHtml = 'Like what you see? Visit the ' +\n",
              "            '<a target=\"_blank\" href=https://colab.research.google.com/notebooks/data_table.ipynb>data table notebook</a>'\n",
              "            + ' to learn more about interactive tables.';\n",
              "          element.innerHTML = '';\n",
              "          dataTable['output_type'] = 'display_data';\n",
              "          await google.colab.output.renderOutput(dataTable, element);\n",
              "          const docLink = document.createElement('div');\n",
              "          docLink.innerHTML = docLinkHtml;\n",
              "          element.appendChild(docLink);\n",
              "        }\n",
              "      </script>\n",
              "    </div>\n",
              "  </div>\n",
              "  "
            ]
          },
          "metadata": {},
          "execution_count": 16
        }
      ]
    },
    {
      "cell_type": "markdown",
      "source": [
        "#Shuffling the dataset with fixed seed"
      ],
      "metadata": {
        "id": "pGglyWK4H69-"
      }
    },
    {
      "cell_type": "code",
      "execution_count": null,
      "metadata": {
        "colab": {
          "base_uri": "https://localhost:8080/",
          "height": 423
        },
        "id": "tI-66ZyvMvLE",
        "outputId": "66420cf2-c9e4-46cc-a66d-cb0c56ac075e"
      },
      "outputs": [
        {
          "output_type": "execute_result",
          "data": {
            "text/plain": [
              "                                               prompt  \\\n",
              "26            Can you prevent mental health problems?   \n",
              "85                     What is binge-eating disorder?   \n",
              "2                         What causes mental illness?   \n",
              "55              How can I pay for mental health care?   \n",
              "68  Someone I love has been diagnosed with depress...   \n",
              "..                                                ...   \n",
              "94  If cannabis is dangerous, why are we legalizin...   \n",
              "67  Someone I care about has a brain injury. Where...   \n",
              "64  I was prescribed an antidepressant or other ps...   \n",
              "47  Where can I find child and youth mental health...   \n",
              "44                      How can I see a psychologist?   \n",
              "\n",
              "                                           completion  \n",
              "26  We can all suffer from mental health challenge...  \n",
              "85  Binge-eating disorder or BED is a type of eati...  \n",
              "2   It is estimated that mental illness affects 1 ...  \n",
              "55  Mental health services provided through the go...  \n",
              "68  We naturally want to help a loved one who isn’...  \n",
              "..                                                ...  \n",
              "94  Cannabis smoke, for example, contains cancer-c...  \n",
              "67  A brain injury itself isn’t the same as a ment...  \n",
              "64  If you’re concerned about your medications, it...  \n",
              "47  To find help for a child or youth, you can: \\n...  \n",
              "44  To find a Registered Psychologist, visit the B...  \n",
              "\n",
              "[98 rows x 2 columns]"
            ],
            "text/html": [
              "\n",
              "  <div id=\"df-949f5c9c-8c00-4de4-b8f6-68db9a466b71\">\n",
              "    <div class=\"colab-df-container\">\n",
              "      <div>\n",
              "<style scoped>\n",
              "    .dataframe tbody tr th:only-of-type {\n",
              "        vertical-align: middle;\n",
              "    }\n",
              "\n",
              "    .dataframe tbody tr th {\n",
              "        vertical-align: top;\n",
              "    }\n",
              "\n",
              "    .dataframe thead th {\n",
              "        text-align: right;\n",
              "    }\n",
              "</style>\n",
              "<table border=\"1\" class=\"dataframe\">\n",
              "  <thead>\n",
              "    <tr style=\"text-align: right;\">\n",
              "      <th></th>\n",
              "      <th>prompt</th>\n",
              "      <th>completion</th>\n",
              "    </tr>\n",
              "  </thead>\n",
              "  <tbody>\n",
              "    <tr>\n",
              "      <th>26</th>\n",
              "      <td>Can you prevent mental health problems?</td>\n",
              "      <td>We can all suffer from mental health challenge...</td>\n",
              "    </tr>\n",
              "    <tr>\n",
              "      <th>85</th>\n",
              "      <td>What is binge-eating disorder?</td>\n",
              "      <td>Binge-eating disorder or BED is a type of eati...</td>\n",
              "    </tr>\n",
              "    <tr>\n",
              "      <th>2</th>\n",
              "      <td>What causes mental illness?</td>\n",
              "      <td>It is estimated that mental illness affects 1 ...</td>\n",
              "    </tr>\n",
              "    <tr>\n",
              "      <th>55</th>\n",
              "      <td>How can I pay for mental health care?</td>\n",
              "      <td>Mental health services provided through the go...</td>\n",
              "    </tr>\n",
              "    <tr>\n",
              "      <th>68</th>\n",
              "      <td>Someone I love has been diagnosed with depress...</td>\n",
              "      <td>We naturally want to help a loved one who isn’...</td>\n",
              "    </tr>\n",
              "    <tr>\n",
              "      <th>...</th>\n",
              "      <td>...</td>\n",
              "      <td>...</td>\n",
              "    </tr>\n",
              "    <tr>\n",
              "      <th>94</th>\n",
              "      <td>If cannabis is dangerous, why are we legalizin...</td>\n",
              "      <td>Cannabis smoke, for example, contains cancer-c...</td>\n",
              "    </tr>\n",
              "    <tr>\n",
              "      <th>67</th>\n",
              "      <td>Someone I care about has a brain injury. Where...</td>\n",
              "      <td>A brain injury itself isn’t the same as a ment...</td>\n",
              "    </tr>\n",
              "    <tr>\n",
              "      <th>64</th>\n",
              "      <td>I was prescribed an antidepressant or other ps...</td>\n",
              "      <td>If you’re concerned about your medications, it...</td>\n",
              "    </tr>\n",
              "    <tr>\n",
              "      <th>47</th>\n",
              "      <td>Where can I find child and youth mental health...</td>\n",
              "      <td>To find help for a child or youth, you can: \\n...</td>\n",
              "    </tr>\n",
              "    <tr>\n",
              "      <th>44</th>\n",
              "      <td>How can I see a psychologist?</td>\n",
              "      <td>To find a Registered Psychologist, visit the B...</td>\n",
              "    </tr>\n",
              "  </tbody>\n",
              "</table>\n",
              "<p>98 rows × 2 columns</p>\n",
              "</div>\n",
              "      <button class=\"colab-df-convert\" onclick=\"convertToInteractive('df-949f5c9c-8c00-4de4-b8f6-68db9a466b71')\"\n",
              "              title=\"Convert this dataframe to an interactive table.\"\n",
              "              style=\"display:none;\">\n",
              "        \n",
              "  <svg xmlns=\"http://www.w3.org/2000/svg\" height=\"24px\"viewBox=\"0 0 24 24\"\n",
              "       width=\"24px\">\n",
              "    <path d=\"M0 0h24v24H0V0z\" fill=\"none\"/>\n",
              "    <path d=\"M18.56 5.44l.94 2.06.94-2.06 2.06-.94-2.06-.94-.94-2.06-.94 2.06-2.06.94zm-11 1L8.5 8.5l.94-2.06 2.06-.94-2.06-.94L8.5 2.5l-.94 2.06-2.06.94zm10 10l.94 2.06.94-2.06 2.06-.94-2.06-.94-.94-2.06-.94 2.06-2.06.94z\"/><path d=\"M17.41 7.96l-1.37-1.37c-.4-.4-.92-.59-1.43-.59-.52 0-1.04.2-1.43.59L10.3 9.45l-7.72 7.72c-.78.78-.78 2.05 0 2.83L4 21.41c.39.39.9.59 1.41.59.51 0 1.02-.2 1.41-.59l7.78-7.78 2.81-2.81c.8-.78.8-2.07 0-2.86zM5.41 20L4 18.59l7.72-7.72 1.47 1.35L5.41 20z\"/>\n",
              "  </svg>\n",
              "      </button>\n",
              "      \n",
              "  <style>\n",
              "    .colab-df-container {\n",
              "      display:flex;\n",
              "      flex-wrap:wrap;\n",
              "      gap: 12px;\n",
              "    }\n",
              "\n",
              "    .colab-df-convert {\n",
              "      background-color: #E8F0FE;\n",
              "      border: none;\n",
              "      border-radius: 50%;\n",
              "      cursor: pointer;\n",
              "      display: none;\n",
              "      fill: #1967D2;\n",
              "      height: 32px;\n",
              "      padding: 0 0 0 0;\n",
              "      width: 32px;\n",
              "    }\n",
              "\n",
              "    .colab-df-convert:hover {\n",
              "      background-color: #E2EBFA;\n",
              "      box-shadow: 0px 1px 2px rgba(60, 64, 67, 0.3), 0px 1px 3px 1px rgba(60, 64, 67, 0.15);\n",
              "      fill: #174EA6;\n",
              "    }\n",
              "\n",
              "    [theme=dark] .colab-df-convert {\n",
              "      background-color: #3B4455;\n",
              "      fill: #D2E3FC;\n",
              "    }\n",
              "\n",
              "    [theme=dark] .colab-df-convert:hover {\n",
              "      background-color: #434B5C;\n",
              "      box-shadow: 0px 1px 3px 1px rgba(0, 0, 0, 0.15);\n",
              "      filter: drop-shadow(0px 1px 2px rgba(0, 0, 0, 0.3));\n",
              "      fill: #FFFFFF;\n",
              "    }\n",
              "  </style>\n",
              "\n",
              "      <script>\n",
              "        const buttonEl =\n",
              "          document.querySelector('#df-949f5c9c-8c00-4de4-b8f6-68db9a466b71 button.colab-df-convert');\n",
              "        buttonEl.style.display =\n",
              "          google.colab.kernel.accessAllowed ? 'block' : 'none';\n",
              "\n",
              "        async function convertToInteractive(key) {\n",
              "          const element = document.querySelector('#df-949f5c9c-8c00-4de4-b8f6-68db9a466b71');\n",
              "          const dataTable =\n",
              "            await google.colab.kernel.invokeFunction('convertToInteractive',\n",
              "                                                     [key], {});\n",
              "          if (!dataTable) return;\n",
              "\n",
              "          const docLinkHtml = 'Like what you see? Visit the ' +\n",
              "            '<a target=\"_blank\" href=https://colab.research.google.com/notebooks/data_table.ipynb>data table notebook</a>'\n",
              "            + ' to learn more about interactive tables.';\n",
              "          element.innerHTML = '';\n",
              "          dataTable['output_type'] = 'display_data';\n",
              "          await google.colab.output.renderOutput(dataTable, element);\n",
              "          const docLink = document.createElement('div');\n",
              "          docLink.innerHTML = docLinkHtml;\n",
              "          element.appendChild(docLink);\n",
              "        }\n",
              "      </script>\n",
              "    </div>\n",
              "  </div>\n",
              "  "
            ]
          },
          "metadata": {},
          "execution_count": 17
        }
      ],
      "source": [
        "ds = df.sample(frac=1, random_state=0)\n",
        "ds"
      ]
    },
    {
      "cell_type": "markdown",
      "source": [
        "# Upload featured Data to wandb cloud as table"
      ],
      "metadata": {
        "id": "6HFbhqEHISkX"
      }
    },
    {
      "cell_type": "code",
      "source": [
        "wandb.init(project=\"GPT 3 for Mental Health FAQ\", job_type=\"logging_dataset_as_table\")\n",
        "wandb.run.log({\"Raw dataset\" : wandb.Table(dataframe=ds)})\n",
        "\n",
        "ds.to_csv(\"MentalHealthFAQFeatured.csv\")\n",
        "ds.head()"
      ],
      "metadata": {
        "colab": {
          "base_uri": "https://localhost:8080/",
          "height": 428,
          "referenced_widgets": [
            "60a61f8943474ce197ef3370d317afa3",
            "9a25050195184f17803e574d35640e6b",
            "f5e24144ac1b4257998133ecf6052201",
            "a97ea02247bb48a58b616f97343f980d",
            "5c779348e3d044fdb49526d3e80a53e2",
            "82cb1be0aaa4417aa42447e276b7fad0",
            "204e7d925ad5412a832186ec179381d8",
            "d87e99fd885b40be8ace3ca2d3ad2b0d"
          ]
        },
        "id": "Yghg9NcqIfrD",
        "outputId": "580dd9f9-eb3c-4035-e4bd-7dba1b08974f"
      },
      "execution_count": null,
      "outputs": [
        {
          "output_type": "display_data",
          "data": {
            "text/plain": [
              "<IPython.core.display.HTML object>"
            ],
            "text/html": [
              "Finishing last run (ID:29i2aekj) before initializing another..."
            ]
          },
          "metadata": {}
        },
        {
          "output_type": "display_data",
          "data": {
            "text/plain": [
              "<IPython.core.display.HTML object>"
            ],
            "text/html": [
              "Waiting for W&B process to finish... <strong style=\"color:green\">(success).</strong>"
            ]
          },
          "metadata": {}
        },
        {
          "output_type": "display_data",
          "data": {
            "text/plain": [
              "VBox(children=(Label(value='0.001 MB of 0.001 MB uploaded (0.000 MB deduped)\\r'), FloatProgress(value=1.0, max…"
            ],
            "application/vnd.jupyter.widget-view+json": {
              "version_major": 2,
              "version_minor": 0,
              "model_id": "60a61f8943474ce197ef3370d317afa3"
            }
          },
          "metadata": {}
        },
        {
          "output_type": "display_data",
          "data": {
            "text/plain": [
              "<IPython.core.display.HTML object>"
            ],
            "text/html": [
              "Synced <strong style=\"color:#cdcd00\">crimson-blaze-3</strong>: <a href=\"https://wandb.ai/kenta_watanabe/GPT%203%20for%20Mental%20Health%20FAQ/runs/29i2aekj\" target=\"_blank\">https://wandb.ai/kenta_watanabe/GPT%203%20for%20Mental%20Health%20FAQ/runs/29i2aekj</a><br/>Synced 5 W&B file(s), 0 media file(s), 0 artifact file(s) and 0 other file(s)"
            ]
          },
          "metadata": {}
        },
        {
          "output_type": "display_data",
          "data": {
            "text/plain": [
              "<IPython.core.display.HTML object>"
            ],
            "text/html": [
              "Find logs at: <code>./wandb/run-20221111_002756-29i2aekj/logs</code>"
            ]
          },
          "metadata": {}
        },
        {
          "output_type": "display_data",
          "data": {
            "text/plain": [
              "<IPython.core.display.HTML object>"
            ],
            "text/html": [
              "Successfully finished last run (ID:29i2aekj). Initializing new run:<br/>"
            ]
          },
          "metadata": {}
        },
        {
          "output_type": "display_data",
          "data": {
            "text/plain": [
              "<IPython.core.display.HTML object>"
            ],
            "text/html": [
              "Tracking run with wandb version 0.13.5"
            ]
          },
          "metadata": {}
        },
        {
          "output_type": "display_data",
          "data": {
            "text/plain": [
              "<IPython.core.display.HTML object>"
            ],
            "text/html": [
              "Run data is saved locally in <code>/content/wandb/run-20221111_004222-286lmfcl</code>"
            ]
          },
          "metadata": {}
        },
        {
          "output_type": "display_data",
          "data": {
            "text/plain": [
              "<IPython.core.display.HTML object>"
            ],
            "text/html": [
              "Syncing run <strong><a href=\"https://wandb.ai/kenta_watanabe/GPT%203%20for%20Mental%20Health%20FAQ/runs/286lmfcl\" target=\"_blank\">mild-elevator-4</a></strong> to <a href=\"https://wandb.ai/kenta_watanabe/GPT%203%20for%20Mental%20Health%20FAQ\" target=\"_blank\">Weights & Biases</a> (<a href=\"https://wandb.me/run\" target=\"_blank\">docs</a>)<br/>"
            ]
          },
          "metadata": {}
        },
        {
          "output_type": "execute_result",
          "data": {
            "text/plain": [
              "                                               prompt  \\\n",
              "26            Can you prevent mental health problems?   \n",
              "85                     What is binge-eating disorder?   \n",
              "2                         What causes mental illness?   \n",
              "55              How can I pay for mental health care?   \n",
              "68  Someone I love has been diagnosed with depress...   \n",
              "\n",
              "                                           completion  \n",
              "26  We can all suffer from mental health challenge...  \n",
              "85  Binge-eating disorder or BED is a type of eati...  \n",
              "2   It is estimated that mental illness affects 1 ...  \n",
              "55  Mental health services provided through the go...  \n",
              "68  We naturally want to help a loved one who isn’...  "
            ],
            "text/html": [
              "\n",
              "  <div id=\"df-17d35c80-db80-4925-a0a5-26a0369e10c4\">\n",
              "    <div class=\"colab-df-container\">\n",
              "      <div>\n",
              "<style scoped>\n",
              "    .dataframe tbody tr th:only-of-type {\n",
              "        vertical-align: middle;\n",
              "    }\n",
              "\n",
              "    .dataframe tbody tr th {\n",
              "        vertical-align: top;\n",
              "    }\n",
              "\n",
              "    .dataframe thead th {\n",
              "        text-align: right;\n",
              "    }\n",
              "</style>\n",
              "<table border=\"1\" class=\"dataframe\">\n",
              "  <thead>\n",
              "    <tr style=\"text-align: right;\">\n",
              "      <th></th>\n",
              "      <th>prompt</th>\n",
              "      <th>completion</th>\n",
              "    </tr>\n",
              "  </thead>\n",
              "  <tbody>\n",
              "    <tr>\n",
              "      <th>26</th>\n",
              "      <td>Can you prevent mental health problems?</td>\n",
              "      <td>We can all suffer from mental health challenge...</td>\n",
              "    </tr>\n",
              "    <tr>\n",
              "      <th>85</th>\n",
              "      <td>What is binge-eating disorder?</td>\n",
              "      <td>Binge-eating disorder or BED is a type of eati...</td>\n",
              "    </tr>\n",
              "    <tr>\n",
              "      <th>2</th>\n",
              "      <td>What causes mental illness?</td>\n",
              "      <td>It is estimated that mental illness affects 1 ...</td>\n",
              "    </tr>\n",
              "    <tr>\n",
              "      <th>55</th>\n",
              "      <td>How can I pay for mental health care?</td>\n",
              "      <td>Mental health services provided through the go...</td>\n",
              "    </tr>\n",
              "    <tr>\n",
              "      <th>68</th>\n",
              "      <td>Someone I love has been diagnosed with depress...</td>\n",
              "      <td>We naturally want to help a loved one who isn’...</td>\n",
              "    </tr>\n",
              "  </tbody>\n",
              "</table>\n",
              "</div>\n",
              "      <button class=\"colab-df-convert\" onclick=\"convertToInteractive('df-17d35c80-db80-4925-a0a5-26a0369e10c4')\"\n",
              "              title=\"Convert this dataframe to an interactive table.\"\n",
              "              style=\"display:none;\">\n",
              "        \n",
              "  <svg xmlns=\"http://www.w3.org/2000/svg\" height=\"24px\"viewBox=\"0 0 24 24\"\n",
              "       width=\"24px\">\n",
              "    <path d=\"M0 0h24v24H0V0z\" fill=\"none\"/>\n",
              "    <path d=\"M18.56 5.44l.94 2.06.94-2.06 2.06-.94-2.06-.94-.94-2.06-.94 2.06-2.06.94zm-11 1L8.5 8.5l.94-2.06 2.06-.94-2.06-.94L8.5 2.5l-.94 2.06-2.06.94zm10 10l.94 2.06.94-2.06 2.06-.94-2.06-.94-.94-2.06-.94 2.06-2.06.94z\"/><path d=\"M17.41 7.96l-1.37-1.37c-.4-.4-.92-.59-1.43-.59-.52 0-1.04.2-1.43.59L10.3 9.45l-7.72 7.72c-.78.78-.78 2.05 0 2.83L4 21.41c.39.39.9.59 1.41.59.51 0 1.02-.2 1.41-.59l7.78-7.78 2.81-2.81c.8-.78.8-2.07 0-2.86zM5.41 20L4 18.59l7.72-7.72 1.47 1.35L5.41 20z\"/>\n",
              "  </svg>\n",
              "      </button>\n",
              "      \n",
              "  <style>\n",
              "    .colab-df-container {\n",
              "      display:flex;\n",
              "      flex-wrap:wrap;\n",
              "      gap: 12px;\n",
              "    }\n",
              "\n",
              "    .colab-df-convert {\n",
              "      background-color: #E8F0FE;\n",
              "      border: none;\n",
              "      border-radius: 50%;\n",
              "      cursor: pointer;\n",
              "      display: none;\n",
              "      fill: #1967D2;\n",
              "      height: 32px;\n",
              "      padding: 0 0 0 0;\n",
              "      width: 32px;\n",
              "    }\n",
              "\n",
              "    .colab-df-convert:hover {\n",
              "      background-color: #E2EBFA;\n",
              "      box-shadow: 0px 1px 2px rgba(60, 64, 67, 0.3), 0px 1px 3px 1px rgba(60, 64, 67, 0.15);\n",
              "      fill: #174EA6;\n",
              "    }\n",
              "\n",
              "    [theme=dark] .colab-df-convert {\n",
              "      background-color: #3B4455;\n",
              "      fill: #D2E3FC;\n",
              "    }\n",
              "\n",
              "    [theme=dark] .colab-df-convert:hover {\n",
              "      background-color: #434B5C;\n",
              "      box-shadow: 0px 1px 3px 1px rgba(0, 0, 0, 0.15);\n",
              "      filter: drop-shadow(0px 1px 2px rgba(0, 0, 0, 0.3));\n",
              "      fill: #FFFFFF;\n",
              "    }\n",
              "  </style>\n",
              "\n",
              "      <script>\n",
              "        const buttonEl =\n",
              "          document.querySelector('#df-17d35c80-db80-4925-a0a5-26a0369e10c4 button.colab-df-convert');\n",
              "        buttonEl.style.display =\n",
              "          google.colab.kernel.accessAllowed ? 'block' : 'none';\n",
              "\n",
              "        async function convertToInteractive(key) {\n",
              "          const element = document.querySelector('#df-17d35c80-db80-4925-a0a5-26a0369e10c4');\n",
              "          const dataTable =\n",
              "            await google.colab.kernel.invokeFunction('convertToInteractive',\n",
              "                                                     [key], {});\n",
              "          if (!dataTable) return;\n",
              "\n",
              "          const docLinkHtml = 'Like what you see? Visit the ' +\n",
              "            '<a target=\"_blank\" href=https://colab.research.google.com/notebooks/data_table.ipynb>data table notebook</a>'\n",
              "            + ' to learn more about interactive tables.';\n",
              "          element.innerHTML = '';\n",
              "          dataTable['output_type'] = 'display_data';\n",
              "          await google.colab.output.renderOutput(dataTable, element);\n",
              "          const docLink = document.createElement('div');\n",
              "          docLink.innerHTML = docLinkHtml;\n",
              "          element.appendChild(docLink);\n",
              "        }\n",
              "      </script>\n",
              "    </div>\n",
              "  </div>\n",
              "  "
            ]
          },
          "metadata": {},
          "execution_count": 18
        }
      ]
    },
    {
      "cell_type": "markdown",
      "metadata": {
        "id": "UvfTq8RnMvLE"
      },
      "source": [
        "### Using OpenAI Tool to preprocess the data"
      ]
    },
    {
      "cell_type": "code",
      "execution_count": null,
      "metadata": {
        "id": "MOMalhGeMvLE",
        "outputId": "3cbb1395-dec4-4963-b594-c2c716a3294c",
        "colab": {
          "base_uri": "https://localhost:8080/"
        }
      },
      "outputs": [
        {
          "output_type": "stream",
          "name": "stdout",
          "text": [
            "Analyzing...\n",
            "\n",
            "- Based on your file extension, your file is formatted as a CSV file\n",
            "- Your file contains 98 prompt-completion pairs. In general, we recommend having at least a few hundred examples. We've found that performance tends to linearly increase for every doubling of the number of examples\n",
            "- The input file should contain exactly two columns/keys per row. Additional columns/keys present are: ['Unnamed: 0']\n",
            "  WARNING: Some of the additional columns/keys contain `Unnamed: 0` in their name. These will be ignored, and the column/key `Unnamed: 0` will be used instead. This could also result from a duplicate column/key in the provided file.\n",
            "- Your data does not contain a common separator at the end of your prompts. Having a separator string appended to the end of the prompt makes it clearer to the fine-tuned model where the completion should begin. See https://beta.openai.com/docs/guides/fine-tuning/preparing-your-dataset for more detail and examples. If you intend to do open-ended generation, then you should leave the prompts empty\n",
            "- Your data does not contain a common ending at the end of your completions. Having a common ending string appended to the end of the completion makes it clearer to the fine-tuned model where the completion should end. See https://beta.openai.com/docs/guides/fine-tuning/preparing-your-dataset for more detail and examples.\n",
            "- The completion should start with a whitespace character (` `). This tends to produce better results due to the tokenization we use. See https://beta.openai.com/docs/guides/fine-tuning/preparing-your-dataset for more details\n",
            "\n",
            "Based on the analysis we will perform the following actions:\n",
            "- [Necessary] Your format `CSV` will be converted to `JSONL`\n",
            "- [Necessary] Remove additional columns/keys: ['Unnamed: 0']\n",
            "- [Recommended] Add a suffix separator ` ->` to all prompts [Y/n]: Y\n",
            "/usr/local/lib/python3.7/dist-packages/openai/validators.py:222: SettingWithCopyWarning: \n",
            "A value is trying to be set on a copy of a slice from a DataFrame.\n",
            "Try using .loc[row_indexer,col_indexer] = value instead\n",
            "\n",
            "See the caveats in the documentation: https://pandas.pydata.org/pandas-docs/stable/user_guide/indexing.html#returning-a-view-versus-a-copy\n",
            "  x[\"prompt\"] += suffix\n",
            "- [Recommended] Add a suffix ending ` END` to all completions [Y/n]: Y\n",
            "/usr/local/lib/python3.7/dist-packages/openai/validators.py:378: SettingWithCopyWarning: \n",
            "A value is trying to be set on a copy of a slice from a DataFrame.\n",
            "Try using .loc[row_indexer,col_indexer] = value instead\n",
            "\n",
            "See the caveats in the documentation: https://pandas.pydata.org/pandas-docs/stable/user_guide/indexing.html#returning-a-view-versus-a-copy\n",
            "  x[\"completion\"] += suffix\n",
            "- [Recommended] Add a whitespace character to the beginning of the completion [Y/n]: Y\n",
            "/usr/local/lib/python3.7/dist-packages/openai/validators.py:422: SettingWithCopyWarning: \n",
            "A value is trying to be set on a copy of a slice from a DataFrame.\n",
            "Try using .loc[row_indexer,col_indexer] = value instead\n",
            "\n",
            "See the caveats in the documentation: https://pandas.pydata.org/pandas-docs/stable/user_guide/indexing.html#returning-a-view-versus-a-copy\n",
            "  lambda x: (\"\" if x[0] == \" \" else \" \") + x\n",
            "\n",
            "\n",
            "Your data will be written to a new JSONL file. Proceed [Y/n]: Y\n",
            "\n",
            "Wrote modified file to `MentalHealthFAQFeatured_prepared.jsonl`\n",
            "Feel free to take a look!\n",
            "\n",
            "Now use that file when fine-tuning:\n",
            "> openai api fine_tunes.create -t \"MentalHealthFAQFeatured_prepared.jsonl\"\n",
            "\n",
            "After you’ve fine-tuned a model, remember that your prompt has to end with the indicator string ` ->` for the model to start generating completions, rather than continuing with the prompt. Make sure to include `stop=[\" END\"]` so that the generated texts ends at the expected place.\n",
            "Once your model starts training, it'll approximately take 3.79 minutes to train a `curie` model, and less for `ada` and `babbage`. Queue will approximately take half an hour per job ahead of you.\n"
          ]
        }
      ],
      "source": [
        "!openai tools fine_tunes.prepare_data -f MentalHealthFAQFeatured.csv"
      ]
    },
    {
      "cell_type": "markdown",
      "metadata": {
        "id": "BJflnhg4MvLF"
      },
      "source": [
        "### Splitting the data into train and val sets(Optional）"
      ]
    },
    {
      "cell_type": "code",
      "execution_count": null,
      "metadata": {
        "id": "yMFmO6-IMvLF",
        "outputId": "8470ab1f-9525-4766-817b-b00511fe2216",
        "colab": {
          "base_uri": "https://localhost:8080/"
        }
      },
      "outputs": [
        {
          "output_type": "stream",
          "name": "stdout",
          "text": [
            "Total: 98\n",
            "Val data: 49\n",
            "Train data: 49\n"
          ]
        }
      ],
      "source": [
        "#The dataset has 304 pairs in total\n",
        "import json\n",
        "\n",
        "with open('MentalHealthFAQFeatured_prepared.jsonl', 'r') as json_file:\n",
        "    json_list = list(json_file)\n",
        "\n",
        "num_data = len(json_list)\n",
        "print(\"Total:\", num_data)\n",
        "\n",
        "val_part = 0.5\n",
        "\n",
        "val_amount = int(num_data * val_part)\n",
        "print(\"Val data:\", val_amount)\n",
        "train_amount = num_data - val_amount \n",
        "print(\"Train data:\", train_amount)\n",
        "\n",
        "!head -n $train_amount MentalHealthFAQFeatured_prepared.jsonl > mental_health_train.jsonl\n",
        "!tail -n $val_amount  MentalHealthFAQFeatured_prepared.jsonl > mental_health_valid.jsonl\n"
      ]
    },
    {
      "cell_type": "code",
      "execution_count": null,
      "metadata": {
        "colab": {
          "referenced_widgets": [
            "13ecb682b3044ac0a7f1cc9dde036c4e",
            "983d79ba770c4f9e83d7d1c9df93f2dc",
            "6766acf0359e4698a1109b13292306b7",
            "c92f4e48eca8452a832927f12f1a42d4",
            "ada3709aff8643c2b8a5a22207c28014",
            "ad7684eb357643f89c441c60aabf57e7",
            "b0ed75fe48b84ced950c712dee8bc861",
            "829b1e81353c490983fd631cfd186f9e"
          ],
          "base_uri": "https://localhost:8080/",
          "height": 151
        },
        "id": "EVWAfN4wMvLF",
        "outputId": "fa259f7c-8bc6-4bd5-ddba-7221b1d45fa4"
      },
      "outputs": [
        {
          "output_type": "display_data",
          "data": {
            "text/plain": [
              "<IPython.core.display.HTML object>"
            ],
            "text/html": [
              "Waiting for W&B process to finish... <strong style=\"color:green\">(success).</strong>"
            ]
          },
          "metadata": {}
        },
        {
          "output_type": "display_data",
          "data": {
            "text/plain": [
              "VBox(children=(Label(value='0.315 MB of 0.315 MB uploaded (0.000 MB deduped)\\r'), FloatProgress(value=1.0, max…"
            ],
            "application/vnd.jupyter.widget-view+json": {
              "version_major": 2,
              "version_minor": 0,
              "model_id": "13ecb682b3044ac0a7f1cc9dde036c4e"
            }
          },
          "metadata": {}
        },
        {
          "output_type": "display_data",
          "data": {
            "text/plain": [
              "<IPython.core.display.HTML object>"
            ],
            "text/html": [
              "Synced <strong style=\"color:#cdcd00\">mild-elevator-4</strong>: <a href=\"https://wandb.ai/kenta_watanabe/GPT%203%20for%20Mental%20Health%20FAQ/runs/286lmfcl\" target=\"_blank\">https://wandb.ai/kenta_watanabe/GPT%203%20for%20Mental%20Health%20FAQ/runs/286lmfcl</a><br/>Synced 5 W&B file(s), 1 media file(s), 1 artifact file(s) and 0 other file(s)"
            ]
          },
          "metadata": {}
        },
        {
          "output_type": "display_data",
          "data": {
            "text/plain": [
              "<IPython.core.display.HTML object>"
            ],
            "text/html": [
              "Find logs at: <code>./wandb/run-20221111_004222-286lmfcl/logs</code>"
            ]
          },
          "metadata": {}
        }
      ],
      "source": [
        "wandb.finish()"
      ]
    },
    {
      "cell_type": "markdown",
      "metadata": {
        "id": "xRa8sNF1MvLF"
      },
      "source": [
        "### Let's define our GPT-3 fine-tuning hyper-parameters."
      ]
    },
    {
      "cell_type": "code",
      "execution_count": null,
      "metadata": {
        "id": "CjzAqmEOMvLF"
      },
      "outputs": [],
      "source": [
        "model = 'davinci'  # can be ada, babbage or curie\n",
        "n_epochs = 4\n",
        "batch_size = 4\n",
        "learning_rate_multiplier = 0.1\n",
        "prompt_loss_weight = 0.1"
      ]
    },
    {
      "cell_type": "markdown",
      "metadata": {
        "id": "-ZDtbG1LMvLG"
      },
      "source": [
        "### Time to train the model!\n",
        "\n",
        "This experience is following to\n",
        "\n",
        "https://betterprogramming.pub/how-to-finetune-gpt-3-finetuning-our-virtual-mental-health-assistant-641c1f3b1ef3"
      ]
    },
    {
      "cell_type": "code",
      "source": [
        "%%time\n",
        "!openai api fine_tunes.create \\\n",
        "  -t mental_health_train.jsonl \\\n",
        "  -v mental_health_valid.jsonl \\\n",
        "  -m davinci"
      ],
      "metadata": {
        "colab": {
          "base_uri": "https://localhost:8080/"
        },
        "id": "kTGaEnIhPO3A",
        "outputId": "10164160-48d5-4837-c2ab-0b9ccc107c73"
      },
      "execution_count": null,
      "outputs": [
        {
          "output_type": "stream",
          "name": "stdout",
          "text": [
            "\rUpload progress:   0% 0.00/77.8k [00:00<?, ?it/s]\rUpload progress: 100% 77.8k/77.8k [00:00<00:00, 91.3Mit/s]\n",
            "Uploaded file from mental_health_train.jsonl: file-p8KtOazNkWbokZ11OEeMldwM\n",
            "Upload progress: 100% 88.6k/88.6k [00:00<00:00, 115Mit/s]\n",
            "Uploaded file from mental_health_valid.jsonl: file-VVNzbxHyWtr8J2qjuWQDkYBo\n",
            "Created fine-tune: ft-c0TlsafK7bEJwzWui0BPlsY6\n",
            "Streaming events until fine-tuning is complete...\n",
            "\n",
            "(Ctrl-C will interrupt the stream, but not cancel the fine-tune)\n",
            "[2022-11-11 04:29:27] Created fine-tune: ft-c0TlsafK7bEJwzWui0BPlsY6\n",
            "[2022-11-11 04:29:38] Fine-tune costs $1.91\n",
            "[2022-11-11 04:29:38] Fine-tune enqueued. Queue number: 0\n",
            "[2022-11-11 04:29:42] Fine-tune started\n",
            "[2022-11-11 04:31:32] Completed epoch 1/4\n",
            "[2022-11-11 04:31:56] Completed epoch 2/4\n",
            "[2022-11-11 04:32:21] Completed epoch 3/4\n",
            "[2022-11-11 04:32:48] Completed epoch 4/4\n",
            "[2022-11-11 04:33:37] Uploaded model: davinci:ft-ipidevelop-2022-11-11-04-33-37\n",
            "[2022-11-11 04:33:38] Uploaded result file: file-kvRB5qLbs0GAmD1UAkG7LX0i\n",
            "[2022-11-11 04:33:38] Fine-tune succeeded\n",
            "\n",
            "Job complete! Status: succeeded 🎉\n",
            "Try out your fine-tuned model:\n",
            "\n",
            "openai api completions.create -m davinci:ft-ipidevelop-2022-11-11-04-33-37 -p <YOUR_PROMPT>\n",
            "CPU times: user 1.91 s, sys: 301 ms, total: 2.21 s\n",
            "Wall time: 4min 15s\n"
          ]
        }
      ]
    },
    {
      "cell_type": "code",
      "execution_count": null,
      "metadata": {
        "id": "WCnpJ8S8MvLG"
      },
      "outputs": [],
      "source": [
        "# !openai api fine_tunes.create \\\n",
        "#     -t dw_train.jsonl \\\n",
        "#     -v dw_valid.jsonl \\\n",
        "#     -m $model \\\n",
        "#     --n_epochs $n_epochs \\\n",
        "#     --batch_size $batch_size \\\n",
        "#     --learning_rate_multiplier $learning_rate_multiplier \\\n",
        "#     --prompt_loss_weight $prompt_loss_weight"
      ]
    },
    {
      "cell_type": "markdown",
      "metadata": {
        "id": "jC3ovsFFMvLG"
      },
      "source": [
        "## Sync fine-tune jobs to Weights & Biases"
      ]
    },
    {
      "cell_type": "markdown",
      "metadata": {
        "id": "jDRCtuG0MvLG"
      },
      "source": [
        "We can log our fine-tunes with a simple command."
      ]
    },
    {
      "cell_type": "code",
      "execution_count": null,
      "metadata": {
        "id": "xqzrF_gGMvLG",
        "outputId": "aac15fbc-0646-4d0d-afbf-be865af16418",
        "colab": {
          "base_uri": "https://localhost:8080/"
        }
      },
      "outputs": [
        {
          "output_type": "stream",
          "name": "stdout",
          "text": [
            "usage: openai wandb sync [-h] [-i ID] [-n N_FINE_TUNES] [--project PROJECT]\n",
            "                         [--entity ENTITY] [--force]\n",
            "\n",
            "optional arguments:\n",
            "  -h, --help            show this help message and exit\n",
            "  -i ID, --id ID        The id of the fine-tune job (optional)\n",
            "  -n N_FINE_TUNES, --n_fine_tunes N_FINE_TUNES\n",
            "                        Number of most recent fine-tunes to log when an id is\n",
            "                        not provided. By default, every fine-tune is synced.\n",
            "  --project PROJECT     Name of the project where you're sending runs. By\n",
            "                        default, it is \"GPT-3\".\n",
            "  --entity ENTITY       Username or team name where you're sending runs. By\n",
            "                        default, your default entity is used, which is usually\n",
            "                        your username.\n",
            "  --force               Forces logging and overwrite existing wandb run of the\n",
            "                        same fine-tune.\n"
          ]
        }
      ],
      "source": [
        "!openai wandb sync --help"
      ]
    },
    {
      "cell_type": "code",
      "execution_count": null,
      "metadata": {
        "id": "sg0pNmsOMvLG",
        "outputId": "ce2808ef-fada-4da7-c900-b848e2a3454c",
        "colab": {
          "base_uri": "https://localhost:8080/"
        }
      },
      "outputs": [
        {
          "output_type": "stream",
          "name": "stdout",
          "text": [
            "\u001b[34m\u001b[1mwandb\u001b[0m: Currently logged in as: \u001b[33mkenta_watanabe\u001b[0m. Use \u001b[1m`wandb login --relogin`\u001b[0m to force relogin\n",
            "\u001b[34m\u001b[1mwandb\u001b[0m: Tracking run with wandb version 0.13.5\n",
            "\u001b[34m\u001b[1mwandb\u001b[0m: Run data is saved locally in \u001b[35m\u001b[1m/content/wandb/run-20221111_051958-ft-c0TlsafK7bEJwzWui0BPlsY6\u001b[0m\n",
            "\u001b[34m\u001b[1mwandb\u001b[0m: Run \u001b[1m`wandb offline`\u001b[0m to turn off syncing.\n",
            "\u001b[34m\u001b[1mwandb\u001b[0m: Syncing run \u001b[33mft-c0TlsafK7bEJwzWui0BPlsY6\u001b[0m\n",
            "\u001b[34m\u001b[1mwandb\u001b[0m: ⭐️ View project at \u001b[34m\u001b[4mhttps://wandb.ai/kenta_watanabe/GPT%203%20for%20Mental%20Health%20FAQ\u001b[0m\n",
            "\u001b[34m\u001b[1mwandb\u001b[0m: 🚀 View run at \u001b[34m\u001b[4mhttps://wandb.ai/kenta_watanabe/GPT%203%20for%20Mental%20Health%20FAQ/runs/ft-c0TlsafK7bEJwzWui0BPlsY6\u001b[0m\n",
            "\u001b[34m\u001b[1mwandb\u001b[0m: Waiting for W&B process to finish... \u001b[32m(success).\u001b[0m\n",
            "\u001b[34m\u001b[1mwandb\u001b[0m: \n",
            "\u001b[34m\u001b[1mwandb\u001b[0m: Run history:\n",
            "\u001b[34m\u001b[1mwandb\u001b[0m:             elapsed_examples ▁▁▁▂▂▂▂▂▂▃▃▃▃▃▃▄▄▄▄▄▅▅▅▅▅▅▆▆▆▆▆▇▇▇▇▇▇███\n",
            "\u001b[34m\u001b[1mwandb\u001b[0m:               elapsed_tokens ▁▁▁▁▁▂▂▂▂▃▃▃▃▃▄▄▄▄▄▄▅▅▅▅▅▆▆▆▆▆▆▇▇▇▇▇▇███\n",
            "\u001b[34m\u001b[1mwandb\u001b[0m:                training_loss ▆█▇▆▅▆▅▇▆▆▄▆▆▄▄▄▅▆▅▅▂▆▆▄▅▅▂▃▄▁▃▁▄▄▁▃▅▄▁▄\n",
            "\u001b[34m\u001b[1mwandb\u001b[0m:   training_sequence_accuracy ▁▁▁▁▁▁▁▁▁▁▁▁▁▁▁▁▁▁▁▁▁▁▁▁▁▁▁▁▁▁▁▁▁▁▁▁▁▁▁▁\n",
            "\u001b[34m\u001b[1mwandb\u001b[0m:      training_token_accuracy ▂▁▂▂▃▁▄▂▃▂▄▃▃▄▃▅▃▄▄▁▆▃▃▄▄▄▇▅▄▇▆▇▅▃█▆▄▅█▄\n",
            "\u001b[34m\u001b[1mwandb\u001b[0m:              validation_loss ▆▄▆▁▂▄▄▃▄▄▅▃▄█▅█▅▆▅█▇▄▄█▄\n",
            "\u001b[34m\u001b[1mwandb\u001b[0m: validation_sequence_accuracy ▁▁▁▁▁▁▁▁▁▁▁▁▁▁▁▁▁▁▁▁▁▁▁▁▁\n",
            "\u001b[34m\u001b[1mwandb\u001b[0m:    validation_token_accuracy ▆█▃▄▇▇▇▇▆▅▇▁▇▃▇▃▆▆▇▃▆█▆▅█\n",
            "\u001b[34m\u001b[1mwandb\u001b[0m: \n",
            "\u001b[34m\u001b[1mwandb\u001b[0m: Run summary:\n",
            "\u001b[34m\u001b[1mwandb\u001b[0m:             elapsed_examples 197.0\n",
            "\u001b[34m\u001b[1mwandb\u001b[0m:               elapsed_tokens 65205.0\n",
            "\u001b[34m\u001b[1mwandb\u001b[0m:             fine_tuned_model davinci:ft-ipidevelo...\n",
            "\u001b[34m\u001b[1mwandb\u001b[0m:                       status succeeded\n",
            "\u001b[34m\u001b[1mwandb\u001b[0m:                training_loss 1.37279\n",
            "\u001b[34m\u001b[1mwandb\u001b[0m:   training_sequence_accuracy 0.0\n",
            "\u001b[34m\u001b[1mwandb\u001b[0m:      training_token_accuracy 0.66133\n",
            "\u001b[34m\u001b[1mwandb\u001b[0m:              validation_loss 1.62286\n",
            "\u001b[34m\u001b[1mwandb\u001b[0m: validation_sequence_accuracy 0.0\n",
            "\u001b[34m\u001b[1mwandb\u001b[0m:    validation_token_accuracy 0.58308\n",
            "\u001b[34m\u001b[1mwandb\u001b[0m: \n",
            "\u001b[34m\u001b[1mwandb\u001b[0m: Synced \u001b[33mft-c0TlsafK7bEJwzWui0BPlsY6\u001b[0m: \u001b[34m\u001b[4mhttps://wandb.ai/kenta_watanabe/GPT%203%20for%20Mental%20Health%20FAQ/runs/ft-c0TlsafK7bEJwzWui0BPlsY6\u001b[0m\n",
            "\u001b[34m\u001b[1mwandb\u001b[0m: Synced 4 W&B file(s), 0 media file(s), 5 artifact file(s) and 0 other file(s)\n",
            "\u001b[34m\u001b[1mwandb\u001b[0m: Find logs at: \u001b[35m\u001b[1m./wandb/run-20221111_051958-ft-c0TlsafK7bEJwzWui0BPlsY6/logs\u001b[0m\n",
            "🎉 wandb sync completed successfully\n"
          ]
        }
      ],
      "source": [
        "!openai wandb sync --project \"GPT 3 for Mental Health FAQ\" "
      ]
    },
    {
      "cell_type": "markdown",
      "metadata": {
        "id": "kG9KRynlMvLG"
      },
      "source": [
        "Our fine-tunes are now successfully synced to Weights & Biases \n",
        "![image.png](data:image/png;base64,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)"
      ]
    },
    {
      "cell_type": "markdown",
      "metadata": {
        "id": "SsaYnbiLMvLL"
      },
      "source": [
        "Anytime we have new fine-tunes, we can just call openai wandb sync to add them to our dashboard."
      ]
    },
    {
      "cell_type": "markdown",
      "metadata": {
        "id": "z2_1-N1TMvLL"
      },
      "source": [
        "## Log inference samples"
      ]
    },
    {
      "cell_type": "markdown",
      "metadata": {
        "id": "mKdU-4aIMvLL"
      },
      "source": [
        "# The best way to evaluate a generative model is to explore sample predictions.\n",
        "\n",
        "Let's generate a few inference samples and log them to W&B."
      ]
    },
    {
      "cell_type": "code",
      "execution_count": null,
      "metadata": {
        "colab": {
          "referenced_widgets": [
            "c94ddfa0e18b4476812a875fbb4fe8ef",
            "34cc914074c84c3db85b4cdbe779001d",
            "93e902cbd55f4e1a8840e6ba2ff64a2f",
            "683e6191f2224b5c91553f50a8d1c2f4",
            "d02afb66a37e4b30b05f8387b1dee23d",
            "d442547b61204e7c8997d7cfe17ca6dd",
            "09818a0929ed4b82a08849c6ead353c6",
            "f468220485aa4c19a239cfe21912f202"
          ],
          "base_uri": "https://localhost:8080/",
          "height": 239
        },
        "id": "bVHFFPQOMvLL",
        "outputId": "f53558e6-a8cf-447d-8c39-20b58562cfa9"
      },
      "outputs": [
        {
          "output_type": "display_data",
          "data": {
            "text/plain": [
              "<IPython.core.display.HTML object>"
            ],
            "text/html": [
              "Finishing last run (ID:4koz7m11) before initializing another..."
            ]
          },
          "metadata": {}
        },
        {
          "output_type": "display_data",
          "data": {
            "text/plain": [
              "<IPython.core.display.HTML object>"
            ],
            "text/html": [
              "Waiting for W&B process to finish... <strong style=\"color:green\">(success).</strong>"
            ]
          },
          "metadata": {}
        },
        {
          "output_type": "display_data",
          "data": {
            "text/plain": [
              "VBox(children=(Label(value='0.001 MB of 0.001 MB uploaded (0.000 MB deduped)\\r'), FloatProgress(value=1.0, max…"
            ],
            "application/vnd.jupyter.widget-view+json": {
              "version_major": 2,
              "version_minor": 0,
              "model_id": "c94ddfa0e18b4476812a875fbb4fe8ef"
            }
          },
          "metadata": {}
        },
        {
          "output_type": "display_data",
          "data": {
            "text/plain": [
              "<IPython.core.display.HTML object>"
            ],
            "text/html": [
              "Synced <strong style=\"color:#cdcd00\">charmed-night-6</strong>: <a href=\"https://wandb.ai/kenta_watanabe/GPT%203%20for%20Mental%20Health%20FAQ/runs/4koz7m11\" target=\"_blank\">https://wandb.ai/kenta_watanabe/GPT%203%20for%20Mental%20Health%20FAQ/runs/4koz7m11</a><br/>Synced 5 W&B file(s), 0 media file(s), 0 artifact file(s) and 0 other file(s)"
            ]
          },
          "metadata": {}
        },
        {
          "output_type": "display_data",
          "data": {
            "text/plain": [
              "<IPython.core.display.HTML object>"
            ],
            "text/html": [
              "Find logs at: <code>./wandb/run-20221111_024703-4koz7m11/logs</code>"
            ]
          },
          "metadata": {}
        },
        {
          "output_type": "display_data",
          "data": {
            "text/plain": [
              "<IPython.core.display.HTML object>"
            ],
            "text/html": [
              "Successfully finished last run (ID:4koz7m11). Initializing new run:<br/>"
            ]
          },
          "metadata": {}
        },
        {
          "output_type": "display_data",
          "data": {
            "text/plain": [
              "<IPython.core.display.HTML object>"
            ],
            "text/html": [
              "Tracking run with wandb version 0.13.5"
            ]
          },
          "metadata": {}
        },
        {
          "output_type": "display_data",
          "data": {
            "text/plain": [
              "<IPython.core.display.HTML object>"
            ],
            "text/html": [
              "Run data is saved locally in <code>/content/wandb/run-20221111_052031-2ogiglpb</code>"
            ]
          },
          "metadata": {}
        },
        {
          "output_type": "display_data",
          "data": {
            "text/plain": [
              "<IPython.core.display.HTML object>"
            ],
            "text/html": [
              "Syncing run <strong><a href=\"https://wandb.ai/kenta_watanabe/GPT%203%20for%20Mental%20Health%20FAQ/runs/2ogiglpb\" target=\"_blank\">peachy-shape-8</a></strong> to <a href=\"https://wandb.ai/kenta_watanabe/GPT%203%20for%20Mental%20Health%20FAQ\" target=\"_blank\">Weights & Biases</a> (<a href=\"https://wandb.me/run\" target=\"_blank\">docs</a>)<br/>"
            ]
          },
          "metadata": {}
        }
      ],
      "source": [
        "# create eval job\n",
        "run = wandb.init(project='GPT 3 for Mental Health FAQ', job_type='eval')\n",
        "entity = wandb.run.entity"
      ]
    },
    {
      "cell_type": "markdown",
      "metadata": {
        "id": "CvbuLTlOMvLL"
      },
      "source": [
        "We can easily retrieve all config parameters from a job file.\n",
        "\n",
        "Job files are logged to W&B as artifacts and can be accessed with `run.use_artifact('USERNAME/PROJECT/job_details:VERSION')` where `VERSION` is either:\n",
        "* a version number such as `v2`\n",
        "* the fine-tune id such as `ft-xxxxxxxxx`\n",
        "* an alias added automatically such as `latest` or manually\n",
        "\n",
        "You can explore them in your artifacts dashboard."
      ]
    },
    {
      "cell_type": "code",
      "execution_count": null,
      "metadata": {
        "id": "mlBfzbh5MvLL",
        "outputId": "889b506a-85da-4137-ae86-a29d691de605",
        "colab": {
          "base_uri": "https://localhost:8080/"
        }
      },
      "outputs": [
        {
          "output_type": "execute_result",
          "data": {
            "text/plain": [
              "{'id': 'ft-1C8LLD4N6iKw9UYQnPDggNhi',\n",
              " 'model': 'davinci',\n",
              " 'object': 'fine-tune',\n",
              " 'status': 'succeeded',\n",
              " 'created_at': 1668129399,\n",
              " 'updated_at': 1668129723,\n",
              " 'hyperparams': {'n_epochs': 4,\n",
              "  'batch_size': 1,\n",
              "  'prompt_loss_weight': 0.01,\n",
              "  'learning_rate_multiplier': 0.1},\n",
              " 'result_files': [{'id': 'file-G2XTyGqegHCFg9soB8p0Bptf',\n",
              "   'bytes': 21448,\n",
              "   'object': 'file',\n",
              "   'status': 'processed',\n",
              "   'purpose': 'fine-tune-results',\n",
              "   'filename': 'compiled_results.csv',\n",
              "   'created_at': 1668129722,\n",
              "   'status_details': None}],\n",
              " 'training_files': [{'id': 'file-VpaZwEbtBX0CsXS9LbpsioUm',\n",
              "   'bytes': 166349,\n",
              "   'object': 'file',\n",
              "   'status': 'processed',\n",
              "   'purpose': 'fine-tune',\n",
              "   'filename': 'MentalHealthFAQFeatured_prepared.jsonl',\n",
              "   'created_at': 1668129399,\n",
              "   'status_details': None}],\n",
              " 'organization_id': 'org-dbg111bJAji4M2aqzCYgruZO',\n",
              " 'fine_tuned_model': 'davinci:ft-ipidevelop-2022-11-11-01-22-01',\n",
              " 'validation_files': []}"
            ]
          },
          "metadata": {},
          "execution_count": 42
        }
      ],
      "source": [
        "# choose a fine-tuned model\n",
        "artifact_job = run.use_artifact(f'{entity}/GPT 3 for Mental Health FAQ/fine_tune_details:v0', type='fine_tune_details')\n",
        "artifact_job.metadata\n",
        "\n"
      ]
    },
    {
      "cell_type": "markdown",
      "metadata": {
        "id": "WlecabOrMvLL"
      },
      "source": [
        "Let's take advantage to add metadata into our eval run config."
      ]
    },
    {
      "cell_type": "code",
      "execution_count": null,
      "metadata": {
        "id": "4XFStvtTMvLL"
      },
      "outputs": [],
      "source": [
        "wandb.config.update({k:artifact_job.metadata[k] for k in ['fine_tuned_model', 'model', 'hyperparams']})"
      ]
    },
    {
      "cell_type": "markdown",
      "metadata": {
        "id": "q0mP0Fq8MvLL"
      },
      "source": [
        "We can easily access model id from any job."
      ]
    },
    {
      "cell_type": "code",
      "execution_count": null,
      "metadata": {
        "id": "9wr1AWMrMvLM",
        "outputId": "0747f38e-a35e-4dd3-dc06-0db04c5a3a58",
        "colab": {
          "base_uri": "https://localhost:8080/",
          "height": 36
        }
      },
      "outputs": [
        {
          "output_type": "execute_result",
          "data": {
            "text/plain": [
              "'davinci:ft-ipidevelop-2022-11-11-01-22-01'"
            ],
            "application/vnd.google.colaboratory.intrinsic+json": {
              "type": "string"
            }
          },
          "metadata": {},
          "execution_count": 44
        }
      ],
      "source": [
        "fine_tuned_model = artifact_job.metadata['fine_tuned_model']\n",
        "fine_tuned_model"
      ]
    },
    {
      "cell_type": "markdown",
      "metadata": {
        "id": "-5vEqEChMvLM"
      },
      "source": [
        "Loading validation data as dataframe"
      ]
    },
    {
      "cell_type": "code",
      "execution_count": null,
      "metadata": {
        "id": "-oMOCL7IMvLM",
        "outputId": "a192f885-cf77-465b-c42b-2bbc2e173c10",
        "colab": {
          "base_uri": "https://localhost:8080/",
          "height": 206
        }
      },
      "outputs": [
        {
          "output_type": "execute_result",
          "data": {
            "text/plain": [
              "                                              prompt  \\\n",
              "0         Can you prevent mental health problems? ->   \n",
              "1                  What is binge-eating disorder? ->   \n",
              "2                     What causes mental illness? ->   \n",
              "3           How can I pay for mental health care? ->   \n",
              "4  Someone I love has been diagnosed with depress...   \n",
              "\n",
              "                                          completion  \n",
              "0   We can all suffer from mental health challeng...  \n",
              "1   Binge-eating disorder or BED is a type of eat...  \n",
              "2   It is estimated that mental illness affects 1...  \n",
              "3   Mental health services provided through the g...  \n",
              "4   We naturally want to help a loved one who isn...  "
            ],
            "text/html": [
              "\n",
              "  <div id=\"df-5573d63f-ae6b-4ad7-ab9e-26a51b84876a\">\n",
              "    <div class=\"colab-df-container\">\n",
              "      <div>\n",
              "<style scoped>\n",
              "    .dataframe tbody tr th:only-of-type {\n",
              "        vertical-align: middle;\n",
              "    }\n",
              "\n",
              "    .dataframe tbody tr th {\n",
              "        vertical-align: top;\n",
              "    }\n",
              "\n",
              "    .dataframe thead th {\n",
              "        text-align: right;\n",
              "    }\n",
              "</style>\n",
              "<table border=\"1\" class=\"dataframe\">\n",
              "  <thead>\n",
              "    <tr style=\"text-align: right;\">\n",
              "      <th></th>\n",
              "      <th>prompt</th>\n",
              "      <th>completion</th>\n",
              "    </tr>\n",
              "  </thead>\n",
              "  <tbody>\n",
              "    <tr>\n",
              "      <th>0</th>\n",
              "      <td>Can you prevent mental health problems? -&gt;</td>\n",
              "      <td>We can all suffer from mental health challeng...</td>\n",
              "    </tr>\n",
              "    <tr>\n",
              "      <th>1</th>\n",
              "      <td>What is binge-eating disorder? -&gt;</td>\n",
              "      <td>Binge-eating disorder or BED is a type of eat...</td>\n",
              "    </tr>\n",
              "    <tr>\n",
              "      <th>2</th>\n",
              "      <td>What causes mental illness? -&gt;</td>\n",
              "      <td>It is estimated that mental illness affects 1...</td>\n",
              "    </tr>\n",
              "    <tr>\n",
              "      <th>3</th>\n",
              "      <td>How can I pay for mental health care? -&gt;</td>\n",
              "      <td>Mental health services provided through the g...</td>\n",
              "    </tr>\n",
              "    <tr>\n",
              "      <th>4</th>\n",
              "      <td>Someone I love has been diagnosed with depress...</td>\n",
              "      <td>We naturally want to help a loved one who isn...</td>\n",
              "    </tr>\n",
              "  </tbody>\n",
              "</table>\n",
              "</div>\n",
              "      <button class=\"colab-df-convert\" onclick=\"convertToInteractive('df-5573d63f-ae6b-4ad7-ab9e-26a51b84876a')\"\n",
              "              title=\"Convert this dataframe to an interactive table.\"\n",
              "              style=\"display:none;\">\n",
              "        \n",
              "  <svg xmlns=\"http://www.w3.org/2000/svg\" height=\"24px\"viewBox=\"0 0 24 24\"\n",
              "       width=\"24px\">\n",
              "    <path d=\"M0 0h24v24H0V0z\" fill=\"none\"/>\n",
              "    <path d=\"M18.56 5.44l.94 2.06.94-2.06 2.06-.94-2.06-.94-.94-2.06-.94 2.06-2.06.94zm-11 1L8.5 8.5l.94-2.06 2.06-.94-2.06-.94L8.5 2.5l-.94 2.06-2.06.94zm10 10l.94 2.06.94-2.06 2.06-.94-2.06-.94-.94-2.06-.94 2.06-2.06.94z\"/><path d=\"M17.41 7.96l-1.37-1.37c-.4-.4-.92-.59-1.43-.59-.52 0-1.04.2-1.43.59L10.3 9.45l-7.72 7.72c-.78.78-.78 2.05 0 2.83L4 21.41c.39.39.9.59 1.41.59.51 0 1.02-.2 1.41-.59l7.78-7.78 2.81-2.81c.8-.78.8-2.07 0-2.86zM5.41 20L4 18.59l7.72-7.72 1.47 1.35L5.41 20z\"/>\n",
              "  </svg>\n",
              "      </button>\n",
              "      \n",
              "  <style>\n",
              "    .colab-df-container {\n",
              "      display:flex;\n",
              "      flex-wrap:wrap;\n",
              "      gap: 12px;\n",
              "    }\n",
              "\n",
              "    .colab-df-convert {\n",
              "      background-color: #E8F0FE;\n",
              "      border: none;\n",
              "      border-radius: 50%;\n",
              "      cursor: pointer;\n",
              "      display: none;\n",
              "      fill: #1967D2;\n",
              "      height: 32px;\n",
              "      padding: 0 0 0 0;\n",
              "      width: 32px;\n",
              "    }\n",
              "\n",
              "    .colab-df-convert:hover {\n",
              "      background-color: #E2EBFA;\n",
              "      box-shadow: 0px 1px 2px rgba(60, 64, 67, 0.3), 0px 1px 3px 1px rgba(60, 64, 67, 0.15);\n",
              "      fill: #174EA6;\n",
              "    }\n",
              "\n",
              "    [theme=dark] .colab-df-convert {\n",
              "      background-color: #3B4455;\n",
              "      fill: #D2E3FC;\n",
              "    }\n",
              "\n",
              "    [theme=dark] .colab-df-convert:hover {\n",
              "      background-color: #434B5C;\n",
              "      box-shadow: 0px 1px 3px 1px rgba(0, 0, 0, 0.15);\n",
              "      filter: drop-shadow(0px 1px 2px rgba(0, 0, 0, 0.3));\n",
              "      fill: #FFFFFF;\n",
              "    }\n",
              "  </style>\n",
              "\n",
              "      <script>\n",
              "        const buttonEl =\n",
              "          document.querySelector('#df-5573d63f-ae6b-4ad7-ab9e-26a51b84876a button.colab-df-convert');\n",
              "        buttonEl.style.display =\n",
              "          google.colab.kernel.accessAllowed ? 'block' : 'none';\n",
              "\n",
              "        async function convertToInteractive(key) {\n",
              "          const element = document.querySelector('#df-5573d63f-ae6b-4ad7-ab9e-26a51b84876a');\n",
              "          const dataTable =\n",
              "            await google.colab.kernel.invokeFunction('convertToInteractive',\n",
              "                                                     [key], {});\n",
              "          if (!dataTable) return;\n",
              "\n",
              "          const docLinkHtml = 'Like what you see? Visit the ' +\n",
              "            '<a target=\"_blank\" href=https://colab.research.google.com/notebooks/data_table.ipynb>data table notebook</a>'\n",
              "            + ' to learn more about interactive tables.';\n",
              "          element.innerHTML = '';\n",
              "          dataTable['output_type'] = 'display_data';\n",
              "          await google.colab.output.renderOutput(dataTable, element);\n",
              "          const docLink = document.createElement('div');\n",
              "          docLink.innerHTML = docLinkHtml;\n",
              "          element.appendChild(docLink);\n",
              "        }\n",
              "      </script>\n",
              "    </div>\n",
              "  </div>\n",
              "  "
            ]
          },
          "metadata": {},
          "execution_count": 45
        }
      ],
      "source": [
        "df = pd.read_json(\"MentalHealthFAQFeatured_prepared.jsonl\", orient='records', lines=True)\n",
        "df.head()"
      ]
    },
    {
      "cell_type": "markdown",
      "metadata": {
        "id": "s1pgaHHwMvLM"
      },
      "source": [
        "We'll perform the inference on all 30 validation examples. "
      ]
    },
    {
      "cell_type": "code",
      "execution_count": null,
      "metadata": {
        "id": "3M2p8ZqMMvLM"
      },
      "outputs": [],
      "source": [
        "n_samples = 30\n",
        "df = df.iloc[:n_samples]"
      ]
    },
    {
      "cell_type": "code",
      "execution_count": null,
      "metadata": {
        "id": "T3UajK8VMvLM",
        "outputId": "ce7fbceb-13dc-496d-a25f-1c22d3aa25b0",
        "colab": {
          "base_uri": "https://localhost:8080/"
        }
      },
      "outputs": [
        {
          "output_type": "stream",
          "name": "stderr",
          "text": [
            "30it [03:09,  6.31s/it]\n"
          ]
        }
      ],
      "source": [
        "data = []\n",
        "\n",
        "for _, row in tqdm(df.iterrows()):\n",
        "    prompt = row['prompt']\n",
        "    res = openai.Completion.create(model=fine_tuned_model, prompt=prompt, max_tokens=300, stop=[\" END\"])\n",
        "    completion = res['choices'][0]['text']\n",
        "    completion = completion[1:]       # remove initial space\n",
        "    prompt = prompt[:-3]              # remove \" ->\"\n",
        "    target = row['completion'][1:-4]  # remove initial space and \"END\"\n",
        "    data.append([prompt, target, completion])"
      ]
    },
    {
      "cell_type": "markdown",
      "metadata": {
        "id": "TJfG2SFDMvLM"
      },
      "source": [
        "We create and log a W&B Table to easily explore, query & compare model predictions."
      ]
    },
    {
      "cell_type": "code",
      "execution_count": null,
      "metadata": {
        "id": "C8Utzv0DMvLM"
      },
      "outputs": [],
      "source": [
        "prediction_table = wandb.Table(columns=['prompt', 'target', 'completion'], data=data)"
      ]
    },
    {
      "cell_type": "code",
      "execution_count": null,
      "metadata": {
        "id": "8thRvE_sMvLM"
      },
      "outputs": [],
      "source": [
        "wandb.log({'predictions': prediction_table})"
      ]
    },
    {
      "cell_type": "markdown",
      "metadata": {
        "id": "l4Q34P3lMvLM"
      },
      "source": [
        "You can open the link to your run page down below. "
      ]
    },
    {
      "cell_type": "code",
      "execution_count": null,
      "metadata": {
        "colab": {
          "base_uri": "https://localhost:8080/",
          "height": 87
        },
        "id": "UJAFMI9xMvLM",
        "outputId": "204c2e47-200d-402b-d7c9-0c2b9b6f8643"
      },
      "outputs": [
        {
          "output_type": "display_data",
          "data": {
            "text/plain": [
              "<IPython.core.display.HTML object>"
            ],
            "text/html": [
              "Waiting for W&B process to finish... <strong style=\"color:green\">(success).</strong>"
            ]
          },
          "metadata": {}
        },
        {
          "output_type": "display_data",
          "data": {
            "text/plain": [
              "<IPython.core.display.HTML object>"
            ],
            "text/html": [
              "Synced <strong style=\"color:#cdcd00\">peachy-shape-8</strong>: <a href=\"https://wandb.ai/kenta_watanabe/GPT%203%20for%20Mental%20Health%20FAQ/runs/2ogiglpb\" target=\"_blank\">https://wandb.ai/kenta_watanabe/GPT%203%20for%20Mental%20Health%20FAQ/runs/2ogiglpb</a><br/>Synced 5 W&B file(s), 1 media file(s), 1 artifact file(s) and 0 other file(s)"
            ]
          },
          "metadata": {}
        },
        {
          "output_type": "display_data",
          "data": {
            "text/plain": [
              "<IPython.core.display.HTML object>"
            ],
            "text/html": [
              "Find logs at: <code>./wandb/run-20221111_052031-2ogiglpb/logs</code>"
            ]
          },
          "metadata": {}
        }
      ],
      "source": [
        "wandb.finish() #work out a way to print the run page link"
      ]
    },
    {
      "cell_type": "markdown",
      "metadata": {
        "id": "ZgPrRqqlMvLM"
      },
      "source": [
        "# Resources\n",
        "https://wandb.ai/ivangoncharov/GPT-3%20to%20Generate%20Doctor%20Who%20Synopses?workspace=user-ivangoncharov"
      ]
    }
  ],
  "metadata": {
    "kernelspec": {
      "display_name": "Python 3",
      "name": "python3"
    },
    "colab": {
      "provenance": [],
      "collapsed_sections": [],
      "include_colab_link": true
    },
    "widgets": {
      "application/vnd.jupyter.widget-state+json": {
        "60a61f8943474ce197ef3370d317afa3": {
          "model_module": "@jupyter-widgets/controls",
          "model_name": "VBoxModel",
          "model_module_version": "1.5.0",
          "state": {
            "_dom_classes": [],
            "_model_module": "@jupyter-widgets/controls",
            "_model_module_version": "1.5.0",
            "_model_name": "VBoxModel",
            "_view_count": null,
            "_view_module": "@jupyter-widgets/controls",
            "_view_module_version": "1.5.0",
            "_view_name": "VBoxView",
            "box_style": "",
            "children": [
              "IPY_MODEL_9a25050195184f17803e574d35640e6b",
              "IPY_MODEL_f5e24144ac1b4257998133ecf6052201"
            ],
            "layout": "IPY_MODEL_a97ea02247bb48a58b616f97343f980d"
          }
        },
        "9a25050195184f17803e574d35640e6b": {
          "model_module": "@jupyter-widgets/controls",
          "model_name": "LabelModel",
          "model_module_version": "1.5.0",
          "state": {
            "_dom_classes": [],
            "_model_module": "@jupyter-widgets/controls",
            "_model_module_version": "1.5.0",
            "_model_name": "LabelModel",
            "_view_count": null,
            "_view_module": "@jupyter-widgets/controls",
            "_view_module_version": "1.5.0",
            "_view_name": "LabelView",
            "description": "",
            "description_tooltip": null,
            "layout": "IPY_MODEL_5c779348e3d044fdb49526d3e80a53e2",
            "placeholder": "​",
            "style": "IPY_MODEL_82cb1be0aaa4417aa42447e276b7fad0",
            "value": "0.001 MB of 0.001 MB uploaded (0.000 MB deduped)\r"
          }
        },
        "f5e24144ac1b4257998133ecf6052201": {
          "model_module": "@jupyter-widgets/controls",
          "model_name": "FloatProgressModel",
          "model_module_version": "1.5.0",
          "state": {
            "_dom_classes": [],
            "_model_module": "@jupyter-widgets/controls",
            "_model_module_version": "1.5.0",
            "_model_name": "FloatProgressModel",
            "_view_count": null,
            "_view_module": "@jupyter-widgets/controls",
            "_view_module_version": "1.5.0",
            "_view_name": "ProgressView",
            "bar_style": "",
            "description": "",
            "description_tooltip": null,
            "layout": "IPY_MODEL_204e7d925ad5412a832186ec179381d8",
            "max": 1,
            "min": 0,
            "orientation": "horizontal",
            "style": "IPY_MODEL_d87e99fd885b40be8ace3ca2d3ad2b0d",
            "value": 1
          }
        },
        "a97ea02247bb48a58b616f97343f980d": {
          "model_module": "@jupyter-widgets/base",
          "model_name": "LayoutModel",
          "model_module_version": "1.2.0",
          "state": {
            "_model_module": "@jupyter-widgets/base",
            "_model_module_version": "1.2.0",
            "_model_name": "LayoutModel",
            "_view_count": null,
            "_view_module": "@jupyter-widgets/base",
            "_view_module_version": "1.2.0",
            "_view_name": "LayoutView",
            "align_content": null,
            "align_items": null,
            "align_self": null,
            "border": null,
            "bottom": null,
            "display": null,
            "flex": null,
            "flex_flow": null,
            "grid_area": null,
            "grid_auto_columns": null,
            "grid_auto_flow": null,
            "grid_auto_rows": null,
            "grid_column": null,
            "grid_gap": null,
            "grid_row": null,
            "grid_template_areas": null,
            "grid_template_columns": null,
            "grid_template_rows": null,
            "height": null,
            "justify_content": null,
            "justify_items": null,
            "left": null,
            "margin": null,
            "max_height": null,
            "max_width": null,
            "min_height": null,
            "min_width": null,
            "object_fit": null,
            "object_position": null,
            "order": null,
            "overflow": null,
            "overflow_x": null,
            "overflow_y": null,
            "padding": null,
            "right": null,
            "top": null,
            "visibility": null,
            "width": null
          }
        },
        "5c779348e3d044fdb49526d3e80a53e2": {
          "model_module": "@jupyter-widgets/base",
          "model_name": "LayoutModel",
          "model_module_version": "1.2.0",
          "state": {
            "_model_module": "@jupyter-widgets/base",
            "_model_module_version": "1.2.0",
            "_model_name": "LayoutModel",
            "_view_count": null,
            "_view_module": "@jupyter-widgets/base",
            "_view_module_version": "1.2.0",
            "_view_name": "LayoutView",
            "align_content": null,
            "align_items": null,
            "align_self": null,
            "border": null,
            "bottom": null,
            "display": null,
            "flex": null,
            "flex_flow": null,
            "grid_area": null,
            "grid_auto_columns": null,
            "grid_auto_flow": null,
            "grid_auto_rows": null,
            "grid_column": null,
            "grid_gap": null,
            "grid_row": null,
            "grid_template_areas": null,
            "grid_template_columns": null,
            "grid_template_rows": null,
            "height": null,
            "justify_content": null,
            "justify_items": null,
            "left": null,
            "margin": null,
            "max_height": null,
            "max_width": null,
            "min_height": null,
            "min_width": null,
            "object_fit": null,
            "object_position": null,
            "order": null,
            "overflow": null,
            "overflow_x": null,
            "overflow_y": null,
            "padding": null,
            "right": null,
            "top": null,
            "visibility": null,
            "width": null
          }
        },
        "82cb1be0aaa4417aa42447e276b7fad0": {
          "model_module": "@jupyter-widgets/controls",
          "model_name": "DescriptionStyleModel",
          "model_module_version": "1.5.0",
          "state": {
            "_model_module": "@jupyter-widgets/controls",
            "_model_module_version": "1.5.0",
            "_model_name": "DescriptionStyleModel",
            "_view_count": null,
            "_view_module": "@jupyter-widgets/base",
            "_view_module_version": "1.2.0",
            "_view_name": "StyleView",
            "description_width": ""
          }
        },
        "204e7d925ad5412a832186ec179381d8": {
          "model_module": "@jupyter-widgets/base",
          "model_name": "LayoutModel",
          "model_module_version": "1.2.0",
          "state": {
            "_model_module": "@jupyter-widgets/base",
            "_model_module_version": "1.2.0",
            "_model_name": "LayoutModel",
            "_view_count": null,
            "_view_module": "@jupyter-widgets/base",
            "_view_module_version": "1.2.0",
            "_view_name": "LayoutView",
            "align_content": null,
            "align_items": null,
            "align_self": null,
            "border": null,
            "bottom": null,
            "display": null,
            "flex": null,
            "flex_flow": null,
            "grid_area": null,
            "grid_auto_columns": null,
            "grid_auto_flow": null,
            "grid_auto_rows": null,
            "grid_column": null,
            "grid_gap": null,
            "grid_row": null,
            "grid_template_areas": null,
            "grid_template_columns": null,
            "grid_template_rows": null,
            "height": null,
            "justify_content": null,
            "justify_items": null,
            "left": null,
            "margin": null,
            "max_height": null,
            "max_width": null,
            "min_height": null,
            "min_width": null,
            "object_fit": null,
            "object_position": null,
            "order": null,
            "overflow": null,
            "overflow_x": null,
            "overflow_y": null,
            "padding": null,
            "right": null,
            "top": null,
            "visibility": null,
            "width": null
          }
        },
        "d87e99fd885b40be8ace3ca2d3ad2b0d": {
          "model_module": "@jupyter-widgets/controls",
          "model_name": "ProgressStyleModel",
          "model_module_version": "1.5.0",
          "state": {
            "_model_module": "@jupyter-widgets/controls",
            "_model_module_version": "1.5.0",
            "_model_name": "ProgressStyleModel",
            "_view_count": null,
            "_view_module": "@jupyter-widgets/base",
            "_view_module_version": "1.2.0",
            "_view_name": "StyleView",
            "bar_color": null,
            "description_width": ""
          }
        },
        "13ecb682b3044ac0a7f1cc9dde036c4e": {
          "model_module": "@jupyter-widgets/controls",
          "model_name": "VBoxModel",
          "model_module_version": "1.5.0",
          "state": {
            "_dom_classes": [],
            "_model_module": "@jupyter-widgets/controls",
            "_model_module_version": "1.5.0",
            "_model_name": "VBoxModel",
            "_view_count": null,
            "_view_module": "@jupyter-widgets/controls",
            "_view_module_version": "1.5.0",
            "_view_name": "VBoxView",
            "box_style": "",
            "children": [
              "IPY_MODEL_983d79ba770c4f9e83d7d1c9df93f2dc",
              "IPY_MODEL_6766acf0359e4698a1109b13292306b7"
            ],
            "layout": "IPY_MODEL_c92f4e48eca8452a832927f12f1a42d4"
          }
        },
        "983d79ba770c4f9e83d7d1c9df93f2dc": {
          "model_module": "@jupyter-widgets/controls",
          "model_name": "LabelModel",
          "model_module_version": "1.5.0",
          "state": {
            "_dom_classes": [],
            "_model_module": "@jupyter-widgets/controls",
            "_model_module_version": "1.5.0",
            "_model_name": "LabelModel",
            "_view_count": null,
            "_view_module": "@jupyter-widgets/controls",
            "_view_module_version": "1.5.0",
            "_view_name": "LabelView",
            "description": "",
            "description_tooltip": null,
            "layout": "IPY_MODEL_ada3709aff8643c2b8a5a22207c28014",
            "placeholder": "​",
            "style": "IPY_MODEL_ad7684eb357643f89c441c60aabf57e7",
            "value": "0.315 MB of 0.315 MB uploaded (0.000 MB deduped)\r"
          }
        },
        "6766acf0359e4698a1109b13292306b7": {
          "model_module": "@jupyter-widgets/controls",
          "model_name": "FloatProgressModel",
          "model_module_version": "1.5.0",
          "state": {
            "_dom_classes": [],
            "_model_module": "@jupyter-widgets/controls",
            "_model_module_version": "1.5.0",
            "_model_name": "FloatProgressModel",
            "_view_count": null,
            "_view_module": "@jupyter-widgets/controls",
            "_view_module_version": "1.5.0",
            "_view_name": "ProgressView",
            "bar_style": "",
            "description": "",
            "description_tooltip": null,
            "layout": "IPY_MODEL_b0ed75fe48b84ced950c712dee8bc861",
            "max": 1,
            "min": 0,
            "orientation": "horizontal",
            "style": "IPY_MODEL_829b1e81353c490983fd631cfd186f9e",
            "value": 1
          }
        },
        "c92f4e48eca8452a832927f12f1a42d4": {
          "model_module": "@jupyter-widgets/base",
          "model_name": "LayoutModel",
          "model_module_version": "1.2.0",
          "state": {
            "_model_module": "@jupyter-widgets/base",
            "_model_module_version": "1.2.0",
            "_model_name": "LayoutModel",
            "_view_count": null,
            "_view_module": "@jupyter-widgets/base",
            "_view_module_version": "1.2.0",
            "_view_name": "LayoutView",
            "align_content": null,
            "align_items": null,
            "align_self": null,
            "border": null,
            "bottom": null,
            "display": null,
            "flex": null,
            "flex_flow": null,
            "grid_area": null,
            "grid_auto_columns": null,
            "grid_auto_flow": null,
            "grid_auto_rows": null,
            "grid_column": null,
            "grid_gap": null,
            "grid_row": null,
            "grid_template_areas": null,
            "grid_template_columns": null,
            "grid_template_rows": null,
            "height": null,
            "justify_content": null,
            "justify_items": null,
            "left": null,
            "margin": null,
            "max_height": null,
            "max_width": null,
            "min_height": null,
            "min_width": null,
            "object_fit": null,
            "object_position": null,
            "order": null,
            "overflow": null,
            "overflow_x": null,
            "overflow_y": null,
            "padding": null,
            "right": null,
            "top": null,
            "visibility": null,
            "width": null
          }
        },
        "ada3709aff8643c2b8a5a22207c28014": {
          "model_module": "@jupyter-widgets/base",
          "model_name": "LayoutModel",
          "model_module_version": "1.2.0",
          "state": {
            "_model_module": "@jupyter-widgets/base",
            "_model_module_version": "1.2.0",
            "_model_name": "LayoutModel",
            "_view_count": null,
            "_view_module": "@jupyter-widgets/base",
            "_view_module_version": "1.2.0",
            "_view_name": "LayoutView",
            "align_content": null,
            "align_items": null,
            "align_self": null,
            "border": null,
            "bottom": null,
            "display": null,
            "flex": null,
            "flex_flow": null,
            "grid_area": null,
            "grid_auto_columns": null,
            "grid_auto_flow": null,
            "grid_auto_rows": null,
            "grid_column": null,
            "grid_gap": null,
            "grid_row": null,
            "grid_template_areas": null,
            "grid_template_columns": null,
            "grid_template_rows": null,
            "height": null,
            "justify_content": null,
            "justify_items": null,
            "left": null,
            "margin": null,
            "max_height": null,
            "max_width": null,
            "min_height": null,
            "min_width": null,
            "object_fit": null,
            "object_position": null,
            "order": null,
            "overflow": null,
            "overflow_x": null,
            "overflow_y": null,
            "padding": null,
            "right": null,
            "top": null,
            "visibility": null,
            "width": null
          }
        },
        "ad7684eb357643f89c441c60aabf57e7": {
          "model_module": "@jupyter-widgets/controls",
          "model_name": "DescriptionStyleModel",
          "model_module_version": "1.5.0",
          "state": {
            "_model_module": "@jupyter-widgets/controls",
            "_model_module_version": "1.5.0",
            "_model_name": "DescriptionStyleModel",
            "_view_count": null,
            "_view_module": "@jupyter-widgets/base",
            "_view_module_version": "1.2.0",
            "_view_name": "StyleView",
            "description_width": ""
          }
        },
        "b0ed75fe48b84ced950c712dee8bc861": {
          "model_module": "@jupyter-widgets/base",
          "model_name": "LayoutModel",
          "model_module_version": "1.2.0",
          "state": {
            "_model_module": "@jupyter-widgets/base",
            "_model_module_version": "1.2.0",
            "_model_name": "LayoutModel",
            "_view_count": null,
            "_view_module": "@jupyter-widgets/base",
            "_view_module_version": "1.2.0",
            "_view_name": "LayoutView",
            "align_content": null,
            "align_items": null,
            "align_self": null,
            "border": null,
            "bottom": null,
            "display": null,
            "flex": null,
            "flex_flow": null,
            "grid_area": null,
            "grid_auto_columns": null,
            "grid_auto_flow": null,
            "grid_auto_rows": null,
            "grid_column": null,
            "grid_gap": null,
            "grid_row": null,
            "grid_template_areas": null,
            "grid_template_columns": null,
            "grid_template_rows": null,
            "height": null,
            "justify_content": null,
            "justify_items": null,
            "left": null,
            "margin": null,
            "max_height": null,
            "max_width": null,
            "min_height": null,
            "min_width": null,
            "object_fit": null,
            "object_position": null,
            "order": null,
            "overflow": null,
            "overflow_x": null,
            "overflow_y": null,
            "padding": null,
            "right": null,
            "top": null,
            "visibility": null,
            "width": null
          }
        },
        "829b1e81353c490983fd631cfd186f9e": {
          "model_module": "@jupyter-widgets/controls",
          "model_name": "ProgressStyleModel",
          "model_module_version": "1.5.0",
          "state": {
            "_model_module": "@jupyter-widgets/controls",
            "_model_module_version": "1.5.0",
            "_model_name": "ProgressStyleModel",
            "_view_count": null,
            "_view_module": "@jupyter-widgets/base",
            "_view_module_version": "1.2.0",
            "_view_name": "StyleView",
            "bar_color": null,
            "description_width": ""
          }
        },
        "c94ddfa0e18b4476812a875fbb4fe8ef": {
          "model_module": "@jupyter-widgets/controls",
          "model_name": "VBoxModel",
          "model_module_version": "1.5.0",
          "state": {
            "_dom_classes": [],
            "_model_module": "@jupyter-widgets/controls",
            "_model_module_version": "1.5.0",
            "_model_name": "VBoxModel",
            "_view_count": null,
            "_view_module": "@jupyter-widgets/controls",
            "_view_module_version": "1.5.0",
            "_view_name": "VBoxView",
            "box_style": "",
            "children": [
              "IPY_MODEL_34cc914074c84c3db85b4cdbe779001d",
              "IPY_MODEL_93e902cbd55f4e1a8840e6ba2ff64a2f"
            ],
            "layout": "IPY_MODEL_683e6191f2224b5c91553f50a8d1c2f4"
          }
        },
        "34cc914074c84c3db85b4cdbe779001d": {
          "model_module": "@jupyter-widgets/controls",
          "model_name": "LabelModel",
          "model_module_version": "1.5.0",
          "state": {
            "_dom_classes": [],
            "_model_module": "@jupyter-widgets/controls",
            "_model_module_version": "1.5.0",
            "_model_name": "LabelModel",
            "_view_count": null,
            "_view_module": "@jupyter-widgets/controls",
            "_view_module_version": "1.5.0",
            "_view_name": "LabelView",
            "description": "",
            "description_tooltip": null,
            "layout": "IPY_MODEL_d02afb66a37e4b30b05f8387b1dee23d",
            "placeholder": "​",
            "style": "IPY_MODEL_d442547b61204e7c8997d7cfe17ca6dd",
            "value": "0.001 MB of 0.001 MB uploaded (0.000 MB deduped)\r"
          }
        },
        "93e902cbd55f4e1a8840e6ba2ff64a2f": {
          "model_module": "@jupyter-widgets/controls",
          "model_name": "FloatProgressModel",
          "model_module_version": "1.5.0",
          "state": {
            "_dom_classes": [],
            "_model_module": "@jupyter-widgets/controls",
            "_model_module_version": "1.5.0",
            "_model_name": "FloatProgressModel",
            "_view_count": null,
            "_view_module": "@jupyter-widgets/controls",
            "_view_module_version": "1.5.0",
            "_view_name": "ProgressView",
            "bar_style": "",
            "description": "",
            "description_tooltip": null,
            "layout": "IPY_MODEL_09818a0929ed4b82a08849c6ead353c6",
            "max": 1,
            "min": 0,
            "orientation": "horizontal",
            "style": "IPY_MODEL_f468220485aa4c19a239cfe21912f202",
            "value": 1
          }
        },
        "683e6191f2224b5c91553f50a8d1c2f4": {
          "model_module": "@jupyter-widgets/base",
          "model_name": "LayoutModel",
          "model_module_version": "1.2.0",
          "state": {
            "_model_module": "@jupyter-widgets/base",
            "_model_module_version": "1.2.0",
            "_model_name": "LayoutModel",
            "_view_count": null,
            "_view_module": "@jupyter-widgets/base",
            "_view_module_version": "1.2.0",
            "_view_name": "LayoutView",
            "align_content": null,
            "align_items": null,
            "align_self": null,
            "border": null,
            "bottom": null,
            "display": null,
            "flex": null,
            "flex_flow": null,
            "grid_area": null,
            "grid_auto_columns": null,
            "grid_auto_flow": null,
            "grid_auto_rows": null,
            "grid_column": null,
            "grid_gap": null,
            "grid_row": null,
            "grid_template_areas": null,
            "grid_template_columns": null,
            "grid_template_rows": null,
            "height": null,
            "justify_content": null,
            "justify_items": null,
            "left": null,
            "margin": null,
            "max_height": null,
            "max_width": null,
            "min_height": null,
            "min_width": null,
            "object_fit": null,
            "object_position": null,
            "order": null,
            "overflow": null,
            "overflow_x": null,
            "overflow_y": null,
            "padding": null,
            "right": null,
            "top": null,
            "visibility": null,
            "width": null
          }
        },
        "d02afb66a37e4b30b05f8387b1dee23d": {
          "model_module": "@jupyter-widgets/base",
          "model_name": "LayoutModel",
          "model_module_version": "1.2.0",
          "state": {
            "_model_module": "@jupyter-widgets/base",
            "_model_module_version": "1.2.0",
            "_model_name": "LayoutModel",
            "_view_count": null,
            "_view_module": "@jupyter-widgets/base",
            "_view_module_version": "1.2.0",
            "_view_name": "LayoutView",
            "align_content": null,
            "align_items": null,
            "align_self": null,
            "border": null,
            "bottom": null,
            "display": null,
            "flex": null,
            "flex_flow": null,
            "grid_area": null,
            "grid_auto_columns": null,
            "grid_auto_flow": null,
            "grid_auto_rows": null,
            "grid_column": null,
            "grid_gap": null,
            "grid_row": null,
            "grid_template_areas": null,
            "grid_template_columns": null,
            "grid_template_rows": null,
            "height": null,
            "justify_content": null,
            "justify_items": null,
            "left": null,
            "margin": null,
            "max_height": null,
            "max_width": null,
            "min_height": null,
            "min_width": null,
            "object_fit": null,
            "object_position": null,
            "order": null,
            "overflow": null,
            "overflow_x": null,
            "overflow_y": null,
            "padding": null,
            "right": null,
            "top": null,
            "visibility": null,
            "width": null
          }
        },
        "d442547b61204e7c8997d7cfe17ca6dd": {
          "model_module": "@jupyter-widgets/controls",
          "model_name": "DescriptionStyleModel",
          "model_module_version": "1.5.0",
          "state": {
            "_model_module": "@jupyter-widgets/controls",
            "_model_module_version": "1.5.0",
            "_model_name": "DescriptionStyleModel",
            "_view_count": null,
            "_view_module": "@jupyter-widgets/base",
            "_view_module_version": "1.2.0",
            "_view_name": "StyleView",
            "description_width": ""
          }
        },
        "09818a0929ed4b82a08849c6ead353c6": {
          "model_module": "@jupyter-widgets/base",
          "model_name": "LayoutModel",
          "model_module_version": "1.2.0",
          "state": {
            "_model_module": "@jupyter-widgets/base",
            "_model_module_version": "1.2.0",
            "_model_name": "LayoutModel",
            "_view_count": null,
            "_view_module": "@jupyter-widgets/base",
            "_view_module_version": "1.2.0",
            "_view_name": "LayoutView",
            "align_content": null,
            "align_items": null,
            "align_self": null,
            "border": null,
            "bottom": null,
            "display": null,
            "flex": null,
            "flex_flow": null,
            "grid_area": null,
            "grid_auto_columns": null,
            "grid_auto_flow": null,
            "grid_auto_rows": null,
            "grid_column": null,
            "grid_gap": null,
            "grid_row": null,
            "grid_template_areas": null,
            "grid_template_columns": null,
            "grid_template_rows": null,
            "height": null,
            "justify_content": null,
            "justify_items": null,
            "left": null,
            "margin": null,
            "max_height": null,
            "max_width": null,
            "min_height": null,
            "min_width": null,
            "object_fit": null,
            "object_position": null,
            "order": null,
            "overflow": null,
            "overflow_x": null,
            "overflow_y": null,
            "padding": null,
            "right": null,
            "top": null,
            "visibility": null,
            "width": null
          }
        },
        "f468220485aa4c19a239cfe21912f202": {
          "model_module": "@jupyter-widgets/controls",
          "model_name": "ProgressStyleModel",
          "model_module_version": "1.5.0",
          "state": {
            "_model_module": "@jupyter-widgets/controls",
            "_model_module_version": "1.5.0",
            "_model_name": "ProgressStyleModel",
            "_view_count": null,
            "_view_module": "@jupyter-widgets/base",
            "_view_module_version": "1.2.0",
            "_view_name": "StyleView",
            "bar_color": null,
            "description_width": ""
          }
        }
      }
    }
  },
  "nbformat": 4,
  "nbformat_minor": 0
}